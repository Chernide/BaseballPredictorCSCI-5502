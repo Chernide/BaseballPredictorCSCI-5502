{
 "cells": [
  {
   "cell_type": "code",
   "execution_count": 2,
   "id": "121410d8-ec1b-4892-982e-638cdd7962b0",
   "metadata": {},
   "outputs": [
    {
     "name": "stdout",
     "output_type": "stream",
     "text": [
      "Collecting package metadata (current_repodata.json): done\n",
      "Solving environment: done\n",
      "\n",
      "\n",
      "==> WARNING: A newer version of conda exists. <==\n",
      "  current version: 4.10.3\n",
      "  latest version: 4.11.0\n",
      "\n",
      "Please update conda by running\n",
      "\n",
      "    $ conda update -n base conda\n",
      "\n",
      "\n",
      "\n",
      "## Package Plan ##\n",
      "\n",
      "  environment location: /opt/conda\n",
      "\n",
      "  added / updated specs:\n",
      "    - pandasql\n",
      "\n",
      "\n",
      "The following NEW packages will be INSTALLED:\n",
      "\n",
      "  pandasql           conda-forge/noarch::pandasql-0.7.3-pyhd8ed1ab_0\n",
      "\n",
      "The following packages will be UPDATED:\n",
      "\n",
      "  ca-certificates                      2021.5.30-ha878542_0 --> 2021.10.8-ha878542_0\n",
      "  certifi                          2021.5.30-py39hf3d152e_0 --> 2021.10.8-py39hf3d152e_1\n",
      "  openssl                                 1.1.1k-h7f98852_1 --> 1.1.1l-h7f98852_0\n",
      "\n",
      "\n",
      "Preparing transaction: done\n",
      "Verifying transaction: done\n",
      "Executing transaction: done\n"
     ]
    }
   ],
   "source": [
    "import sys\n",
    "!conda install --yes --prefix {sys.prefix} pandasql"
   ]
  },
  {
   "cell_type": "code",
   "execution_count": 3,
   "id": "f8db7187-00d7-474a-8601-7ca7b7640228",
   "metadata": {},
   "outputs": [],
   "source": [
    "import pandas as p\n",
    "from pandasql import sqldf\n",
    "from sklearn.model_selection import train_test_split\n",
    "pysqldf = lambda q: sqldf(q, globals())"
   ]
  },
  {
   "cell_type": "code",
   "execution_count": 4,
   "id": "c4c1c742-bd26-449e-bf60-ad843a2868f5",
   "metadata": {},
   "outputs": [],
   "source": [
    "df_people = p.read_csv('../data/People.csv')\n",
    "df_salaries = p.read_csv('../data/Salaries.csv')\n",
    "df_appearances = p.read_csv('../data/Appearances.csv')\n",
    "df_batting = p.read_csv('../data/Batting.csv')\n",
    "df_fielding = p.read_csv('../data/Fielding.csv')"
   ]
  },
  {
   "cell_type": "code",
   "execution_count": 5,
   "id": "4b8c0937-ffb8-44b2-98b9-601afc7a227b",
   "metadata": {},
   "outputs": [],
   "source": [
    "def display_stats(df, columnLabel, inc = 1, rnd = 0):\n",
    "    numObj, minValue, maxValue, mean, stdev, Q1, median, Q3, IQR = [0,\"inf\",\"-inf\",0,0,0,0,0,0]\n",
    "    \n",
    "    numObj = len(df)\n",
    "    minValue = df[columnLabel].min()\n",
    "    maxValue = df[columnLabel].max()\n",
    "    mean = df[columnLabel].mean()\n",
    "    stdev = df[columnLabel].std()\n",
    "    Q1 = df[columnLabel].quantile(.25)\n",
    "    median = df[columnLabel].median()\n",
    "    Q3 = df[columnLabel].quantile(.75)\n",
    "    IQR = Q3 - Q1\n",
    "    \n",
    "    print(f\"\"\"\n",
    "      Min Value: {minValue}\n",
    "      Max Value: {maxValue}\n",
    "      Mean: {mean}\n",
    "      Median: {median}\n",
    "      Standard Deviation: {stdev}\n",
    "      Q1: {Q1}\n",
    "      Q3: {Q3}\n",
    "      IQR: {IQR}\n",
    "      ---\n",
    "      Poorest: {minValue} - {max(0, Q1 - (1.5 * IQR))}\n",
    "      Poor: {max(0, Q1 - (1.5 * IQR) + inc)} - {Q1}\n",
    "      Fair: {Q1 + inc} - {median}\n",
    "      Good: {median + inc} - {Q3}\n",
    "      Great: {Q3 + inc} - {min(maxValue, Q3 + (1.5 * IQR))}\n",
    "      Excellent: {min(maxValue, Q3 + (1.5 * IQR))} - {maxValue}\n",
    "    \"\"\")\n",
    "\n",
    "    return numObj, minValue, maxValue, mean, stdev, Q1, median, Q3, IQR"
   ]
  },
  {
   "cell_type": "code",
   "execution_count": 47,
   "id": "3eae012d-7696-4b97-ada6-f1318c9d7b45",
   "metadata": {},
   "outputs": [],
   "source": [
    "df_playerids = pysqldf(\"SELECT DISTINCT playerID from df_people group by playerID\")\n",
    "df_playerids.head(5)\n",
    "\n",
    "batting_stats = pysqldf(\"\"\"\n",
    "    SELECT playerID, yearID, G, H / (AB - BB - SF) as BattingAverage, AB, R, H, HR, RBI, BB, SF \n",
    "    FROM df_batting \n",
    "    WHERE G >= 50 and AB > 0 and yearID > 1955\n",
    "\"\"\")\n",
    "\n",
    "player_salaries = pysqldf(\"\"\"\n",
    "    SELECT stats.playerID, stats.yearID, df_salaries.salary,\n",
    "        next.salary as 'NextSalary',\n",
    "        (next.salary - df_salaries.salary * 1.0) / ABS(df_salaries.salary) as Difference,\n",
    "        G, BattingAverage, AB, R, H, HR, RBI, BB, SF\n",
    "    FROM batting_stats as stats\n",
    "    INNER JOIN df_salaries ON df_salaries.playerID = stats.playerID AND df_salaries.yearID = stats.yearID\n",
    "    INNER JOIN (\n",
    "        SELECT salary, playerID, yearID\n",
    "        FROM df_salaries as next\n",
    "    ) next ON df_salaries.playerID = next.playerID WHERE (df_salaries.yearID + 1) = next.yearID\n",
    "\"\"\")\n",
    "\n",
    "# player_salaries[ player_salaries['playerID'] == 'aguaylu01'].head(5)\n",
    "\n",
    "fielders = pysqldf(\"\"\"\n",
    "    SELECT DISTINCT ps.playerID, ps.yearID, salary, NextSalary, Difference, POS, ps.G, BattingAverage, AB, R, H, HR, RBI, BB, SF, (PO + A) / (PO + A + E) as FieldingPercentage, A, E, PO\n",
    "    FROM player_salaries AS ps\n",
    "    INNER JOIN df_fielding ON ps.playerID=df_fielding.playerID AND ps.yearID=df_fielding.yearID\n",
    "\"\"\")\n",
    "\n",
    "# # fielders.head(5)\n",
    "\n",
    "dataset = fielders.groupby(['playerID', 'yearID']).agg({\n",
    "    'G': ['first'],\n",
    "    'AB': ['first'],\n",
    "    'H': ['first'],\n",
    "    'HR': ['first'],\n",
    "    'RBI': ['first'],\n",
    "    'BB': ['first'],\n",
    "    'SF': ['first'],\n",
    "    'A': ['sum'],\n",
    "    'E': ['sum'],\n",
    "    'PO': ['sum'],\n",
    "    'salary': ['first'],\n",
    "    'NextSalary': ['first'],\n",
    "    'Difference': ['first'],\n",
    "}).reset_index()\n",
    "dataset['FieldingPercentage'] = (dataset['A'] + dataset['PO']) / (dataset['PO'] + dataset['A'] + dataset['E'])\n",
    "dataset['BattingAverage'] = dataset['H'] / (dataset['AB'] - dataset['BB'] - dataset['SF'])\n",
    "dataset.columns = dataset.columns.droplevel(1)\n",
    "\n",
    "dataset = dataset[dataset['G'] > 50]\n",
    "dataset = dataset[dataset['AB'] > 500]"
   ]
  },
  {
   "cell_type": "code",
   "execution_count": 89,
   "id": "01bab91b-a0a8-4989-a720-3105065f16f7",
   "metadata": {},
   "outputs": [
    {
     "name": "stdout",
     "output_type": "stream",
     "text": [
      "\n",
      "      Min Value: 0\n",
      "      Max Value: 70\n",
      "      Mean: 19.9209705372617\n",
      "      Median: 19.0\n",
      "      Standard Deviation: 11.41066095910969\n",
      "      Q1: 11.0\n",
      "      Q3: 27.0\n",
      "      IQR: 16.0\n",
      "      ---\n",
      "      Poorest: 0 - 0\n",
      "      Poor: 0 - 11.0\n",
      "      Fair: 12.0 - 19.0\n",
      "      Good: 20.0 - 27.0\n",
      "      Great: 28.0 - 51.0\n",
      "      Excellent: 51.0 - 70\n",
      "    \n"
     ]
    },
    {
     "data": {
      "image/png": "[encoded data removed]",
      "text/plain": [
       "<Figure size 432x288 with 1 Axes>"
      ]
     },
     "metadata": {
      "needs_background": "light"
     },
     "output_type": "display_data"
    }
   ],
   "source": [
    "dataset['HR_Cat'] = p.cut(dataset['HR'], bins=[-1, 1, 3, 9, 17, 36, 100], labels=[\"Poorest\", \"Poor\", \"Fair\", \"Good\", \"Great\", \"Excellent\"])\n",
    "dataset['HR_Cat_Small'] = p.cut(dataset['HR'], bins=[-1, 9, 36, 100], labels=[\"Poor\", \"Good\", \"Excellent\"])\n",
    "display_stats(dataset, 'HR')\n",
    "hr_axes = dataset.boxplot(column=['HR'], return_type='axes')"
   ]
  },
  {
   "cell_type": "code",
   "execution_count": 50,
   "id": "ad2d2b61-512e-412b-b0f0-35a103f1038b",
   "metadata": {},
   "outputs": [
    {
     "name": "stdout",
     "output_type": "stream",
     "text": [
      "\n",
      "      Min Value: 17.0\n",
      "      Max Value: 165.0\n",
      "      Mean: 81.10398613518197\n",
      "      Median: 80.0\n",
      "      Standard Deviation: 24.6396273478094\n",
      "      Q1: 62.0\n",
      "      Q3: 99.0\n",
      "      IQR: 37.0\n",
      "      ---\n",
      "      Poorest: 17.0 - 6.5\n",
      "      Poor: 7.5 - 62.0\n",
      "      Fair: 63.0 - 80.0\n",
      "      Good: 81.0 - 99.0\n",
      "      Great: 100.0 - 154.5\n",
      "      Excellent: 154.5 - 165.0\n",
      "    \n"
     ]
    },
    {
     "data": {
      "text/plain": [
       "<AxesSubplot:>"
      ]
     },
     "execution_count": 50,
     "metadata": {},
     "output_type": "execute_result"
    },
    {
     "data": {
      "image/png": "[encoded data removed]",
      "text/plain": [
       "<Figure size 432x288 with 1 Axes>"
      ]
     },
     "metadata": {
      "needs_background": "light"
     },
     "output_type": "display_data"
    }
   ],
   "source": [
    "dataset['RBI_Cat'] = p.cut(dataset['RBI'], bins=[0, 1, 24, 44, 69, 135, 200], labels=[\"Poorest\", \"Poor\", \"Fair\", \"Good\", \"Great\", \"Excellent\"])\n",
    "dataset['RBI_Cat_Small'] = p.cut(dataset['RBI'], bins=[0, 44, 135, 200], labels=[\"Poor\", \"Good\", \"Excellent\"])\n",
    "display_stats(dataset, 'RBI')\n",
    "dataset.boxplot(column=['RBI'], return_type='axes')"
   ]
  },
  {
   "cell_type": "code",
   "execution_count": 51,
   "id": "1a56328d-a2c1-49e5-a2c2-d35f1f5246b0",
   "metadata": {},
   "outputs": [
    {
     "name": "stdout",
     "output_type": "stream",
     "text": [
      "\n",
      "      Min Value: 0.21933085501858737\n",
      "      Max Value: 0.47345132743362833\n",
      "      Mean: 0.318905820702343\n",
      "      Median: 0.315450643776824\n",
      "      Standard Deviation: 0.03670018081733653\n",
      "      Q1: 0.2938053097345133\n",
      "      Q3: 0.33941605839416056\n",
      "      IQR: 0.04561074865964726\n",
      "      ---\n",
      "      Poorest: 0.21933085501858737 - 0.2253891867450424\n",
      "      Poor: 0.2263891867450424 - 0.2938053097345133\n",
      "      Fair: 0.2948053097345133 - 0.315450643776824\n",
      "      Good: 0.316450643776824 - 0.33941605839416056\n",
      "      Great: 0.34041605839416056 - 0.4078321813836314\n",
      "      Excellent: 0.4078321813836314 - 0.47345132743362833\n",
      "    \n"
     ]
    },
    {
     "data": {
      "image/png": "[encoded data removed]",
      "text/plain": [
       "<Figure size 432x288 with 1 Axes>"
      ]
     },
     "metadata": {
      "needs_background": "light"
     },
     "output_type": "display_data"
    }
   ],
   "source": [
    "dataset['BA_Cat'] = p.cut(dataset['BattingAverage'], bins=[0.0, 0.177, 0.266, 0.296, 0.325, 0.412, 0.5], labels=[\"Poorest\", \"Poor\", \"Fair\", \"Good\", \"Great\", \"Excellent\"], precision=3)\n",
    "dataset['BA_Cat_Small'] = p.cut(dataset['BattingAverage'], bins=[0.0, 0.177, 0.296, 0.5], labels=[\"Poor\", \"Good\", \"Excellent\"], precision=3)\n",
    "display_stats(dataset, 'BattingAverage', 0.001, 3)\n",
    "ba_axes = dataset.boxplot(column=['BattingAverage'], return_type='axes')"
   ]
  },
  {
   "cell_type": "code",
   "execution_count": 52,
   "id": "dc4d0a06-0a28-4ed6-a6fe-42fea740a0f7",
   "metadata": {},
   "outputs": [
    {
     "name": "stdout",
     "output_type": "stream",
     "text": [
      "\n",
      "      Min Value: 0.8333333333333334\n",
      "      Max Value: 1.0\n",
      "      Mean: 0.9811913373709764\n",
      "      Median: 0.9847050173781303\n",
      "      Standard Deviation: 0.014213560158615366\n",
      "      Q1: 0.9741507849454994\n",
      "      Q3: 0.9916695561719834\n",
      "      IQR: 0.01751877122648393\n",
      "      ---\n",
      "      Poorest: 0.8333333333333334 - 0.9478726281057736\n",
      "      Poor: 0.9488726281057736 - 0.9741507849454994\n",
      "      Fair: 0.9751507849454994 - 0.9847050173781303\n",
      "      Good: 0.9857050173781303 - 0.9916695561719834\n",
      "      Great: 0.9926695561719834 - 1.0\n",
      "      Excellent: 1.0 - 1.0\n",
      "    \n"
     ]
    },
    {
     "data": {
      "text/plain": [
       "(0.9, 1.0)"
      ]
     },
     "execution_count": 52,
     "metadata": {},
     "output_type": "execute_result"
    },
    {
     "data": {
      "image/png": "[encoded data removed]",
      "text/plain": [
       "<Figure size 432x288 with 1 Axes>"
      ]
     },
     "metadata": {
      "needs_background": "light"
     },
     "output_type": "display_data"
    }
   ],
   "source": [
    "dataset['FP_Cat'] = p.cut(dataset['FieldingPercentage'], bins=[0, 0.5, 0.942, 0.973, 0.986, 0.993, 1], labels=[\"Poorest\", \"Poor\", \"Fair\", \"Good\", \"Great\", \"Excellent\"], precision=3)\n",
    "dataset['FP_Cat_Small'] = p.cut(dataset['FieldingPercentage'], bins=[0, 0.942, 0.993, 1], labels=[\"Poor\", \"Good\", \"Excellent\"], precision=3)\n",
    "display_stats(dataset, 'FieldingPercentage', 0.001, 3)\n",
    "fp_axes = dataset.boxplot(column=['FieldingPercentage'], return_type='axes')\n",
    "fp_axes.set_ylim(0.9, 1)"
   ]
  },
  {
   "cell_type": "code",
   "execution_count": 98,
   "id": "7845cd31-cd43-4157-84b1-793215611987",
   "metadata": {},
   "outputs": [
    {
     "name": "stdout",
     "output_type": "stream",
     "text": [
      "\n",
      "      Min Value: -0.9705405405405405\n",
      "      Max Value: 14.677966101694915\n",
      "      Mean: 0.8927998354482094\n",
      "      Median: 0.32142857142857145\n",
      "      Standard Deviation: 1.675305507190177\n",
      "      Q1: 0.055487053020961775\n",
      "      Q3: 0.8848167539267016\n",
      "      IQR: 0.8293297009057398\n",
      "      ---\n",
      "      Poorest: -0.9705405405405405 - 0\n",
      "      Poor: 0 - 0.055487053020961775\n",
      "      Fair: 0.056487053020961776 - 0.32142857142857145\n",
      "      Good: 0.32242857142857145 - 0.8848167539267016\n",
      "      Great: 0.8858167539267016 - 2.1288113052853115\n",
      "      Excellent: 2.1288113052853115 - 14.677966101694915\n",
      "    \n"
     ]
    },
    {
     "data": {
      "image/png": "[encoded data removed]",
      "text/plain": [
       "<Figure size 432x288 with 1 Axes>"
      ]
     },
     "metadata": {
      "needs_background": "light"
     },
     "output_type": "display_data"
    }
   ],
   "source": [
    "dataset['Salary_Increase'] = p.cut(dataset['Difference'], bins=[-1.0, 0, 0.032, 0.251, 0.693, 1, 15], labels=[\"Poorest\", \"Poor\", \"Fair\", \"Good\", \"Great\", \"Excellent\"], precision=3)\n",
    "dataset['Salary_Increase_Small'] = p.cut(dataset['Difference'], bins=[0, 1, 15], labels=[\"Small\", \"Large\"], precision=3)\n",
    "display_stats(dataset, 'Difference', 0.001)\n",
    "diff_axes = dataset.boxplot(column=['Difference'], return_type='axes')\n",
    "\n",
    "dataset['HighestSalary'] = dataset.groupby(['playerID'])['salary'].transform('max')\n",
    "dataset['LowestSalary'] = dataset.groupby(['playerID'])['salary'].transform('min')"
   ]
  },
  {
   "cell_type": "code",
   "execution_count": 99,
   "id": "2d3cd9c5-1e05-463a-b66c-bfa964aef5bd",
   "metadata": {},
   "outputs": [
    {
     "name": "stdout",
     "output_type": "stream",
     "text": [
      "Probabilities with many Categories \n",
      "\n",
      "{'HR': Salary_Increase  HR_Cat   \n",
      "Poorest          Poorest      0.002773\n",
      "                 Poor         0.007626\n",
      "                 Fair         0.028423\n",
      "                 Good         0.044714\n",
      "                 Great        0.082842\n",
      "                 Excellent    0.017678\n",
      "Poor             Poorest      0.000347\n",
      "                 Poor         0.000347\n",
      "                 Fair         0.003466\n",
      "                 Good         0.007279\n",
      "                 Great        0.008666\n",
      "                 Excellent    0.003120\n",
      "Fair             Poorest      0.007972\n",
      "                 Poor         0.008319\n",
      "                 Fair         0.035355\n",
      "                 Good         0.064818\n",
      "                 Great        0.110572\n",
      "                 Excellent    0.024957\n",
      "Good             Poorest      0.003466\n",
      "                 Poor         0.007626\n",
      "                 Fair         0.036395\n",
      "                 Good         0.059965\n",
      "                 Great        0.108492\n",
      "                 Excellent    0.016291\n",
      "Great            Poorest      0.001733\n",
      "                 Poor         0.002080\n",
      "                 Fair         0.015945\n",
      "                 Good         0.021837\n",
      "                 Great        0.040901\n",
      "                 Excellent    0.005546\n",
      "Excellent        Poorest      0.003813\n",
      "                 Poor         0.008319\n",
      "                 Fair         0.030849\n",
      "                 Good         0.052340\n",
      "                 Great        0.108492\n",
      "                 Excellent    0.016638\n",
      "dtype: float64, 'RBI': Salary_Increase  RBI_Cat  \n",
      "Poorest          Poorest      0.000000\n",
      "                 Poor         0.000000\n",
      "                 Fair         0.012132\n",
      "                 Good         0.051993\n",
      "                 Great        0.115771\n",
      "                 Excellent    0.004159\n",
      "Poor             Poorest      0.000000\n",
      "                 Poor         0.000000\n",
      "                 Fair         0.001386\n",
      "                 Good         0.007626\n",
      "                 Great        0.012825\n",
      "                 Excellent    0.001386\n",
      "Fair             Poorest      0.000000\n",
      "                 Poor         0.000347\n",
      "                 Fair         0.013865\n",
      "                 Good         0.071404\n",
      "                 Great        0.159445\n",
      "                 Excellent    0.006932\n",
      "Good             Poorest      0.000000\n",
      "                 Poor         0.000000\n",
      "                 Fair         0.012132\n",
      "                 Good         0.071404\n",
      "                 Great        0.145927\n",
      "                 Excellent    0.002773\n",
      "Great            Poorest      0.000000\n",
      "                 Poor         0.000000\n",
      "                 Fair         0.005546\n",
      "                 Good         0.022530\n",
      "                 Great        0.058925\n",
      "                 Excellent    0.001040\n",
      "Excellent        Poorest      0.000000\n",
      "                 Poor         0.000347\n",
      "                 Fair         0.012132\n",
      "                 Good         0.060312\n",
      "                 Great        0.143501\n",
      "                 Excellent    0.004159\n",
      "dtype: float64, 'Batting_Average': Salary_Increase  BA_Cat   \n",
      "Poorest          Poorest      0.000000\n",
      "                 Poor         0.011785\n",
      "                 Fair         0.041941\n",
      "                 Good         0.057539\n",
      "                 Great        0.069324\n",
      "                 Excellent    0.003466\n",
      "Poor             Poorest      0.000000\n",
      "                 Poor         0.001386\n",
      "                 Fair         0.007279\n",
      "                 Good         0.006239\n",
      "                 Great        0.007626\n",
      "                 Excellent    0.000693\n",
      "Fair             Poorest      0.000000\n",
      "                 Poor         0.016638\n",
      "                 Fair         0.054073\n",
      "                 Good         0.080763\n",
      "                 Great        0.094627\n",
      "                 Excellent    0.005893\n",
      "Good             Poorest      0.000000\n",
      "                 Poor         0.011785\n",
      "                 Fair         0.054766\n",
      "                 Good         0.073137\n",
      "                 Great        0.088735\n",
      "                 Excellent    0.003813\n",
      "Great            Poorest      0.000000\n",
      "                 Poor         0.002426\n",
      "                 Fair         0.021837\n",
      "                 Good         0.031889\n",
      "                 Great        0.030503\n",
      "                 Excellent    0.001386\n",
      "Excellent        Poorest      0.000000\n",
      "                 Poor         0.011438\n",
      "                 Fair         0.040901\n",
      "                 Good         0.072790\n",
      "                 Great        0.092548\n",
      "                 Excellent    0.002773\n",
      "dtype: float64, 'Fielding_Percentage': Salary_Increase  FP_Cat   \n",
      "Poorest          Poorest      0.000000\n",
      "                 Poor         0.001733\n",
      "                 Fair         0.038821\n",
      "                 Good         0.051993\n",
      "                 Great        0.055113\n",
      "                 Excellent    0.036395\n",
      "Poor             Poorest      0.000000\n",
      "                 Poor         0.000693\n",
      "                 Fair         0.005893\n",
      "                 Good         0.006239\n",
      "                 Great        0.006239\n",
      "                 Excellent    0.004159\n",
      "Fair             Poorest      0.000000\n",
      "                 Poor         0.003120\n",
      "                 Fair         0.050260\n",
      "                 Good         0.075563\n",
      "                 Great        0.067244\n",
      "                 Excellent    0.055459\n",
      "Good             Poorest      0.000000\n",
      "                 Poor         0.002773\n",
      "                 Fair         0.046794\n",
      "                 Good         0.074177\n",
      "                 Great        0.066898\n",
      "                 Excellent    0.041594\n",
      "Great            Poorest      0.000000\n",
      "                 Poor         0.001040\n",
      "                 Fair         0.022530\n",
      "                 Good         0.027036\n",
      "                 Great        0.021490\n",
      "                 Excellent    0.015945\n",
      "Excellent        Poorest      0.000000\n",
      "                 Poor         0.006932\n",
      "                 Fair         0.050953\n",
      "                 Good         0.071404\n",
      "                 Great        0.056499\n",
      "                 Excellent    0.034662\n",
      "dtype: float64}\n",
      "\n",
      "\n",
      "\n",
      "Probabilities with fewer Categories \n",
      "\n",
      "{'HR': Salary_Increase_Small  HR_Cat_Small\n",
      "Small                  Poor            0.123050\n",
      "                       Good            0.422530\n",
      "                       Excellent       0.049913\n",
      "Large                  Poor            0.042981\n",
      "                       Good            0.160832\n",
      "                       Excellent       0.016638\n",
      "dtype: float64, 'RBI': Salary_Increase_Small  RBI_Cat_Small\n",
      "Small                  Poor             0.033276\n",
      "                       Good             0.550087\n",
      "                       Excellent        0.012132\n",
      "Large                  Poor             0.012478\n",
      "                       Good             0.203813\n",
      "                       Excellent        0.004159\n",
      "dtype: float64, 'Batting_Average': Salary_Increase_Small  BA_Cat_Small\n",
      "Small                  Poor            0.000000\n",
      "                       Good            0.170191\n",
      "                       Excellent       0.425303\n",
      "Large                  Poor            0.000000\n",
      "                       Good            0.052340\n",
      "                       Excellent       0.168111\n",
      "dtype: float64, 'Fielding_Percentage': Salary_Increase_Small  FP_Cat_Small\n",
      "Small                  Poor            0.007626\n",
      "                       Good            0.470364\n",
      "                       Excellent       0.117158\n",
      "Large                  Poor            0.006932\n",
      "                       Good            0.178856\n",
      "                       Excellent       0.034662\n",
      "dtype: float64}\n"
     ]
    }
   ],
   "source": [
    "# Reference: \n",
    "# https://deebuls.github.io/Naive-Bayes-Pandas.html\n",
    "# \n",
    "def get_prior(df, attr):\n",
    "    return df.groupby(attr).size().div(len(df))\n",
    "\n",
    "print('Probabilities with many Categories \\n')\n",
    "probabilities = {}\n",
    "# probabilities['Salary_Increase'] = get_prior(dataset, 'Salary_Increase')\n",
    "probabilities['HR'] = get_prior(dataset, ['Salary_Increase', 'HR_Cat'])\n",
    "probabilities['RBI'] = get_prior(dataset, ['Salary_Increase', 'RBI_Cat'])\n",
    "probabilities['Batting_Average'] = get_prior(dataset, ['Salary_Increase', 'BA_Cat'])\n",
    "probabilities['Fielding_Percentage'] = get_prior(dataset, ['Salary_Increase', 'FP_Cat'])\n",
    "\n",
    "print(probabilities)\n",
    "print('\\n\\n')\n",
    "\n",
    "print('Probabilities with fewer Categories \\n')\n",
    "probabilities_small = {}\n",
    "probabilities_small['HR'] = get_prior(dataset, ['Salary_Increase_Small', 'HR_Cat_Small', 'RBI_Cat_Small'])\n",
    "probabilities_small['RBI'] = get_prior(dataset, ['Salary_Increase_Small', 'RBI_Cat_Small'])\n",
    "probabilities_small['Batting_Average'] = get_prior(dataset, ['Salary_Increase_Small', 'BA_Cat_Small'])\n",
    "probabilities_small['Fielding_Percentage'] = get_prior(dataset, ['Salary_Increase_Small', 'FP_Cat_Small'])\n",
    "print(probabilities_small)"
   ]
  },
  {
   "cell_type": "code",
   "execution_count": 97,
   "id": "a71e1965-16e8-45c2-afa1-b75fccb44546",
   "metadata": {},
   "outputs": [
    {
     "name": "stdout",
     "output_type": "stream",
     "text": [
      "Probability with small (RBI) 0.0364741641337386\n",
      "Probability with small (HR) 0.07598784194528875\n",
      "Probability with small (Batting Average) 0.13829787234042554\n",
      "Probability with small (Fielding Percentage) 0.08206686930091185\n",
      "Probability (RBI) 0.11398176291793313\n",
      "Probability (HR) 0.18693009118541035\n",
      "Probability (Batting Average) 0.2750759878419453\n",
      "Probability (Fielding Percentage) 0.19148936170212766\n"
     ]
    }
   ],
   "source": [
    "def check_salary_dip(df, threshhold = 1, total = 50):\n",
    "    id = ''\n",
    "    hash = ''\n",
    "    tuples = {}\n",
    "    for index, row in df.iterrows():\n",
    "        current_id = row['playerID']\n",
    "\n",
    "        if (len(tuples.items()) > total):\n",
    "            print(len(tuples.items()), total)\n",
    "            break;\n",
    "        \n",
    "        # Next row does not continue the same player \n",
    "        if (id and current_id != id):\n",
    "            id = ''\n",
    "            hash = ''\n",
    "            \n",
    "        if (current_id == id):\n",
    "            tuples[f'{current_id}-{hash}']['second'] = row[['Salary_Increase_Small', 'BA_Cat', 'BA_Cat_Small', 'FP_Cat', 'FP_Cat_Small', 'HR_Cat', 'HR_Cat_Small', 'RBI_Cat', 'RBI_Cat_Small']]\n",
    "            id = ''\n",
    "            hash = ''\n",
    "        \n",
    "        if (row['Difference'] >= threshhold):\n",
    "            id = current_id\n",
    "            hash = index\n",
    "            tuples[f'{current_id}-{hash}'] = {}\n",
    "            tuples[f'{current_id}-{hash}']['first'] = row[['Salary_Increase_Small', 'BA_Cat', 'BA_Cat_Small', 'FP_Cat', 'FP_Cat_Small', 'HR_Cat', 'HR_Cat_Small', 'RBI_Cat', 'RBI_Cat_Small']]\n",
    "    \n",
    "    return tuples\n",
    "\n",
    "regular_rating = {\n",
    "    \"Poorest\": 5, \"Poor\": 4, \"Fair\": 3, \"Good\": 2, \"Great\": 1, \"Excellent\": 0\n",
    "}\n",
    "\n",
    "small_rating = {\n",
    "    \"Poor\": 2, \"Good\": 1, \"Excellent\": 0\n",
    "}\n",
    "\n",
    "def check_probabilities(tuples, column, rating_system, rating = -2):\n",
    "    total = 0\n",
    "    for id, value in tuples.items():\n",
    "        first_rating = rating_system[value['first'][column]]\n",
    "        if ('second' in value.keys()):\n",
    "            second_rating = rating_system[value['second'][column]]\n",
    "            if (first_rating - second_rating <= rating):\n",
    "                total += 1\n",
    "    \n",
    "    return total / len(tuples)\n",
    "\n",
    "# dataset.head(5)\n",
    "tuples = check_salary_dip(dataset.sort_values(by=['playerID', 'yearID']), 1, 800)\n",
    "rbi_prob_small = check_probabilities(tuples, 'RBI_Cat_Small', small_rating, -1)\n",
    "hr_prob_small = check_probabilities(tuples, 'HR_Cat_Small', small_rating, -1)\n",
    "ba_prob_small = check_probabilities(tuples, 'BA_Cat_Small', small_rating, -1)\n",
    "fp_prob_small = check_probabilities(tuples, 'FP_Cat_Small', small_rating, -1)\n",
    "\n",
    "print('Probability with small (RBI)', rbi_prob_small)\n",
    "print('Probability with small (HR)', hr_prob_small)\n",
    "print('Probability with small (Batting Average)', ba_prob_small)\n",
    "print('Probability with small (Fielding Percentage)', fp_prob_small)\n",
    "\n",
    "rbi_prob = check_probabilities(tuples, 'RBI_Cat', regular_rating, -1)\n",
    "hr_prob = check_probabilities(tuples, 'HR_Cat', regular_rating, -1)\n",
    "ba_prob = check_probabilities(tuples, 'BA_Cat', regular_rating, -1)\n",
    "fp_prob = check_probabilities(tuples, 'FP_Cat', regular_rating, -1)\n",
    "\n",
    "print('Probability (RBI)', rbi_prob)\n",
    "print('Probability (HR)', hr_prob)\n",
    "print('Probability (Batting Average)', ba_prob)\n",
    "print('Probability (Fielding Percentage)', fp_prob)"
   ]
  }
 ],
 "metadata": {
  "kernelspec": {
   "display_name": "Python 3 (ipykernel)",
   "language": "python",
   "name": "python3"
  },
  "language_info": {
   "codemirror_mode": {
    "name": "ipython",
    "version": 3
   },
   "file_extension": ".py",
   "mimetype": "text/x-python",
   "name": "python",
   "nbconvert_exporter": "python",
   "pygments_lexer": "ipython3",
   "version": "3.9.6"
  }
 },
 "nbformat": 4,
 "nbformat_minor": 5
}
