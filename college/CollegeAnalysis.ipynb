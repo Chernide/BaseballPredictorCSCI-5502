{
 "cells": [
  {
   "cell_type": "markdown",
   "id": "a5bdd26e-1bf7-4ced-826d-29f2fbbfe8c0",
   "metadata": {},
   "source": [
    "By: Denver Chernin <br>"
   ]
  },
  {
   "cell_type": "code",
   "execution_count": 3,
   "id": "1d383d21-af0f-4d0d-83e2-d59fb765f0e5",
   "metadata": {},
   "outputs": [
    {
     "name": "stdout",
     "output_type": "stream",
     "text": [
      "WARNING:tensorflow:From /Users/denverchernin/opt/anaconda3/envs/dm_proj/lib/python3.7/site-packages/tensorflow_core/python/compat/v2_compat.py:65: disable_resource_variables (from tensorflow.python.ops.variable_scope) is deprecated and will be removed in a future version.\n",
      "Instructions for updating:\n",
      "non-resource variables are not supported in the long term\n"
     ]
    }
   ],
   "source": [
    "#Importing necessary libraries\n",
    "import pandas as p #dataframes to hold tables\n",
    "from pandasql import sqldf #sql to dataframe conversion for data access\n",
    "from sklearn.model_selection import train_test_split #method to split dataframe into train and test sets\n",
    "import tensorflow.compat.v1 as tf\n",
    "tf.disable_v2_behavior()\n",
    "from sklearn.model_selection import train_test_split\n",
    "from sklearn.preprocessing import MinMaxScaler, Normalizer\n",
    "from sklearn.decomposition import PCA as sklearnPCA\n",
    "from sklearn.tree import DecisionTreeClassifier, export_graphviz\n",
    "from sklearn import svm, metrics\n",
    "import matplotlib.pyplot as plt\n",
    "import seaborn as sns\n",
    "import numpy as np\n",
    "import warnings\n",
    "import os\n",
    "import statistics\n",
    "import subprocess\n",
    "warnings.filterwarnings(\"ignore\")"
   ]
  },
  {
   "cell_type": "code",
   "execution_count": 4,
   "id": "63a2837d-d712-49eb-b4e7-257717078cb6",
   "metadata": {},
   "outputs": [],
   "source": [
    "#Lambda function to make sql queries of data frames cleaner\n",
    "pysqldf = lambda q: sqldf(q, globals())"
   ]
  },
  {
   "cell_type": "code",
   "execution_count": 5,
   "id": "5a00f622-9db4-4d6b-9eae-0c6a5d73fc82",
   "metadata": {},
   "outputs": [],
   "source": [
    "#Reading in the college data\n",
    "df_college = p.read_csv('../data/CollegePlaying.csv')\n",
    "\n",
    "#Reading in the batting data of all players\n",
    "df_batting = p.read_csv('../data/Batting.csv')\n",
    "\n",
    "#Reading in the pitching data for all pitchers\n",
    "df_pitchers = p.read_csv('../data/Pitching.csv')\n",
    "\n",
    "#Reading in the people data (allows me to translate playerIDs into names (first and last))\n",
    "df_people = p.read_csv('../data/People.csv')\n",
    "\n",
    "#Reading in the wOBA (weighted on base average) weights for every year to use in calculations \n",
    "#as the linear equations for wOBA stays the same every year, but the weights do not\n",
    "df_weights = p.read_csv('../data/wOBA_Weights.csv')"
   ]
  },
  {
   "cell_type": "code",
   "execution_count": 6,
   "id": "f843fb26-de0a-44f4-ab1f-07364d4b1035",
   "metadata": {},
   "outputs": [],
   "source": [
    "#Grabbing the unique playerIDs that exist in the df_college table (AKA obtaining what players played in college)\n",
    "df_college_playerids = pysqldf(\"SELECT DISTINCT playerID from df_college where yearID >= 1955 group by playerID\")"
   ]
  },
  {
   "cell_type": "code",
   "execution_count": 7,
   "id": "821e50c6-329b-47e4-9a81-908c039a2167",
   "metadata": {},
   "outputs": [
    {
     "data": {
      "text/html": [
       "<div>\n",
       "<style scoped>\n",
       "    .dataframe tbody tr th:only-of-type {\n",
       "        vertical-align: middle;\n",
       "    }\n",
       "\n",
       "    .dataframe tbody tr th {\n",
       "        vertical-align: top;\n",
       "    }\n",
       "\n",
       "    .dataframe thead th {\n",
       "        text-align: right;\n",
       "    }\n",
       "</style>\n",
       "<table border=\"1\" class=\"dataframe\">\n",
       "  <thead>\n",
       "    <tr style=\"text-align: right;\">\n",
       "      <th></th>\n",
       "      <th>playerID</th>\n",
       "    </tr>\n",
       "  </thead>\n",
       "  <tbody>\n",
       "    <tr>\n",
       "      <th>0</th>\n",
       "      <td>aardsda01</td>\n",
       "    </tr>\n",
       "    <tr>\n",
       "      <th>1</th>\n",
       "      <td>abadan01</td>\n",
       "    </tr>\n",
       "    <tr>\n",
       "      <th>2</th>\n",
       "      <td>abbotje01</td>\n",
       "    </tr>\n",
       "    <tr>\n",
       "      <th>3</th>\n",
       "      <td>abbotji01</td>\n",
       "    </tr>\n",
       "    <tr>\n",
       "      <th>4</th>\n",
       "      <td>abbotky01</td>\n",
       "    </tr>\n",
       "  </tbody>\n",
       "</table>\n",
       "</div>"
      ],
      "text/plain": [
       "    playerID\n",
       "0  aardsda01\n",
       "1   abadan01\n",
       "2  abbotje01\n",
       "3  abbotji01\n",
       "4  abbotky01"
      ]
     },
     "execution_count": 7,
     "metadata": {},
     "output_type": "execute_result"
    }
   ],
   "source": [
    "df_college_playerids.head(5)"
   ]
  },
  {
   "cell_type": "code",
   "execution_count": 8,
   "id": "307201c6-1a49-4302-b0d9-9124a579ddf1",
   "metadata": {},
   "outputs": [],
   "source": [
    "#Grabbing all of the batting statistics for each player that went to college\n",
    "df_batters_college = pysqldf(\"SELECT * FROM df_batting WHERE df_batting.playerID IN (SELECT * FROM df_college_playerids) and G >= 50 and AB > 0\")"
   ]
  },
  {
   "cell_type": "code",
   "execution_count": 9,
   "id": "c1d846bb-3ecd-4cda-94b9-9369b71e0b73",
   "metadata": {},
   "outputs": [
    {
     "data": {
      "text/html": [
       "<div>\n",
       "<style scoped>\n",
       "    .dataframe tbody tr th:only-of-type {\n",
       "        vertical-align: middle;\n",
       "    }\n",
       "\n",
       "    .dataframe tbody tr th {\n",
       "        vertical-align: top;\n",
       "    }\n",
       "\n",
       "    .dataframe thead th {\n",
       "        text-align: right;\n",
       "    }\n",
       "</style>\n",
       "<table border=\"1\" class=\"dataframe\">\n",
       "  <thead>\n",
       "    <tr style=\"text-align: right;\">\n",
       "      <th></th>\n",
       "      <th>playerID</th>\n",
       "      <th>yearID</th>\n",
       "      <th>stint</th>\n",
       "      <th>teamID</th>\n",
       "      <th>lgID</th>\n",
       "      <th>G</th>\n",
       "      <th>AB</th>\n",
       "      <th>R</th>\n",
       "      <th>H</th>\n",
       "      <th>2B</th>\n",
       "      <th>...</th>\n",
       "      <th>RBI</th>\n",
       "      <th>SB</th>\n",
       "      <th>CS</th>\n",
       "      <th>BB</th>\n",
       "      <th>SO</th>\n",
       "      <th>IBB</th>\n",
       "      <th>HBP</th>\n",
       "      <th>SH</th>\n",
       "      <th>SF</th>\n",
       "      <th>GIDP</th>\n",
       "    </tr>\n",
       "  </thead>\n",
       "  <tbody>\n",
       "    <tr>\n",
       "      <th>0</th>\n",
       "      <td>kindaje01</td>\n",
       "      <td>1957</td>\n",
       "      <td>1</td>\n",
       "      <td>CHN</td>\n",
       "      <td>NL</td>\n",
       "      <td>72</td>\n",
       "      <td>181</td>\n",
       "      <td>18</td>\n",
       "      <td>29</td>\n",
       "      <td>3</td>\n",
       "      <td>...</td>\n",
       "      <td>12.0</td>\n",
       "      <td>1.0</td>\n",
       "      <td>0.0</td>\n",
       "      <td>8</td>\n",
       "      <td>48.0</td>\n",
       "      <td>0.0</td>\n",
       "      <td>0.0</td>\n",
       "      <td>3.0</td>\n",
       "      <td>0.0</td>\n",
       "      <td>4.0</td>\n",
       "    </tr>\n",
       "    <tr>\n",
       "      <th>1</th>\n",
       "      <td>altmage01</td>\n",
       "      <td>1959</td>\n",
       "      <td>1</td>\n",
       "      <td>CHN</td>\n",
       "      <td>NL</td>\n",
       "      <td>135</td>\n",
       "      <td>420</td>\n",
       "      <td>54</td>\n",
       "      <td>103</td>\n",
       "      <td>14</td>\n",
       "      <td>...</td>\n",
       "      <td>47.0</td>\n",
       "      <td>1.0</td>\n",
       "      <td>0.0</td>\n",
       "      <td>34</td>\n",
       "      <td>80.0</td>\n",
       "      <td>4.0</td>\n",
       "      <td>7.0</td>\n",
       "      <td>6.0</td>\n",
       "      <td>1.0</td>\n",
       "      <td>8.0</td>\n",
       "    </tr>\n",
       "    <tr>\n",
       "      <th>2</th>\n",
       "      <td>cashno01</td>\n",
       "      <td>1959</td>\n",
       "      <td>1</td>\n",
       "      <td>CHA</td>\n",
       "      <td>AL</td>\n",
       "      <td>58</td>\n",
       "      <td>104</td>\n",
       "      <td>16</td>\n",
       "      <td>25</td>\n",
       "      <td>0</td>\n",
       "      <td>...</td>\n",
       "      <td>16.0</td>\n",
       "      <td>1.0</td>\n",
       "      <td>1.0</td>\n",
       "      <td>18</td>\n",
       "      <td>9.0</td>\n",
       "      <td>3.0</td>\n",
       "      <td>5.0</td>\n",
       "      <td>1.0</td>\n",
       "      <td>2.0</td>\n",
       "      <td>0.0</td>\n",
       "    </tr>\n",
       "    <tr>\n",
       "      <th>3</th>\n",
       "      <td>fairlro01</td>\n",
       "      <td>1959</td>\n",
       "      <td>1</td>\n",
       "      <td>LAN</td>\n",
       "      <td>NL</td>\n",
       "      <td>118</td>\n",
       "      <td>244</td>\n",
       "      <td>27</td>\n",
       "      <td>58</td>\n",
       "      <td>12</td>\n",
       "      <td>...</td>\n",
       "      <td>23.0</td>\n",
       "      <td>0.0</td>\n",
       "      <td>4.0</td>\n",
       "      <td>31</td>\n",
       "      <td>29.0</td>\n",
       "      <td>2.0</td>\n",
       "      <td>1.0</td>\n",
       "      <td>6.0</td>\n",
       "      <td>2.0</td>\n",
       "      <td>3.0</td>\n",
       "    </tr>\n",
       "    <tr>\n",
       "      <th>4</th>\n",
       "      <td>hadleke01</td>\n",
       "      <td>1959</td>\n",
       "      <td>1</td>\n",
       "      <td>KC1</td>\n",
       "      <td>AL</td>\n",
       "      <td>113</td>\n",
       "      <td>288</td>\n",
       "      <td>40</td>\n",
       "      <td>73</td>\n",
       "      <td>11</td>\n",
       "      <td>...</td>\n",
       "      <td>39.0</td>\n",
       "      <td>1.0</td>\n",
       "      <td>2.0</td>\n",
       "      <td>24</td>\n",
       "      <td>74.0</td>\n",
       "      <td>0.0</td>\n",
       "      <td>1.0</td>\n",
       "      <td>2.0</td>\n",
       "      <td>3.0</td>\n",
       "      <td>6.0</td>\n",
       "    </tr>\n",
       "  </tbody>\n",
       "</table>\n",
       "<p>5 rows × 22 columns</p>\n",
       "</div>"
      ],
      "text/plain": [
       "    playerID  yearID  stint teamID lgID    G   AB   R    H  2B  ...   RBI  \\\n",
       "0  kindaje01    1957      1    CHN   NL   72  181  18   29   3  ...  12.0   \n",
       "1  altmage01    1959      1    CHN   NL  135  420  54  103  14  ...  47.0   \n",
       "2   cashno01    1959      1    CHA   AL   58  104  16   25   0  ...  16.0   \n",
       "3  fairlro01    1959      1    LAN   NL  118  244  27   58  12  ...  23.0   \n",
       "4  hadleke01    1959      1    KC1   AL  113  288  40   73  11  ...  39.0   \n",
       "\n",
       "    SB   CS  BB    SO  IBB  HBP   SH   SF  GIDP  \n",
       "0  1.0  0.0   8  48.0  0.0  0.0  3.0  0.0   4.0  \n",
       "1  1.0  0.0  34  80.0  4.0  7.0  6.0  1.0   8.0  \n",
       "2  1.0  1.0  18   9.0  3.0  5.0  1.0  2.0   0.0  \n",
       "3  0.0  4.0  31  29.0  2.0  1.0  6.0  2.0   3.0  \n",
       "4  1.0  2.0  24  74.0  0.0  1.0  2.0  3.0   6.0  \n",
       "\n",
       "[5 rows x 22 columns]"
      ]
     },
     "execution_count": 9,
     "metadata": {},
     "output_type": "execute_result"
    }
   ],
   "source": [
    "df_batters_college.head(5)"
   ]
  },
  {
   "cell_type": "code",
   "execution_count": 10,
   "id": "51d20638-dc4e-46a8-9d0c-c39a3f49a4df",
   "metadata": {},
   "outputs": [],
   "source": [
    "#Grabbing all of the batting statistics for each player that DIDNT go to college\n",
    "df_batters_no_college = pysqldf(\"SELECT * FROM df_batting WHERE df_batting.playerID NOT IN (SELECT * FROM df_college_playerids) and G >= 50 and yearID > 1955 and AB > 0\")"
   ]
  },
  {
   "cell_type": "code",
   "execution_count": 11,
   "id": "7c346fe7-c19d-4cf2-8ee3-a08d34db52da",
   "metadata": {},
   "outputs": [
    {
     "data": {
      "text/html": [
       "<div>\n",
       "<style scoped>\n",
       "    .dataframe tbody tr th:only-of-type {\n",
       "        vertical-align: middle;\n",
       "    }\n",
       "\n",
       "    .dataframe tbody tr th {\n",
       "        vertical-align: top;\n",
       "    }\n",
       "\n",
       "    .dataframe thead th {\n",
       "        text-align: right;\n",
       "    }\n",
       "</style>\n",
       "<table border=\"1\" class=\"dataframe\">\n",
       "  <thead>\n",
       "    <tr style=\"text-align: right;\">\n",
       "      <th></th>\n",
       "      <th>playerID</th>\n",
       "      <th>yearID</th>\n",
       "      <th>stint</th>\n",
       "      <th>teamID</th>\n",
       "      <th>lgID</th>\n",
       "      <th>G</th>\n",
       "      <th>AB</th>\n",
       "      <th>R</th>\n",
       "      <th>H</th>\n",
       "      <th>2B</th>\n",
       "      <th>...</th>\n",
       "      <th>RBI</th>\n",
       "      <th>SB</th>\n",
       "      <th>CS</th>\n",
       "      <th>BB</th>\n",
       "      <th>SO</th>\n",
       "      <th>IBB</th>\n",
       "      <th>HBP</th>\n",
       "      <th>SH</th>\n",
       "      <th>SF</th>\n",
       "      <th>GIDP</th>\n",
       "    </tr>\n",
       "  </thead>\n",
       "  <tbody>\n",
       "    <tr>\n",
       "      <th>0</th>\n",
       "      <td>aaronha01</td>\n",
       "      <td>1956</td>\n",
       "      <td>1</td>\n",
       "      <td>ML1</td>\n",
       "      <td>NL</td>\n",
       "      <td>153</td>\n",
       "      <td>609</td>\n",
       "      <td>106</td>\n",
       "      <td>200</td>\n",
       "      <td>34</td>\n",
       "      <td>...</td>\n",
       "      <td>92.0</td>\n",
       "      <td>2.0</td>\n",
       "      <td>4.0</td>\n",
       "      <td>37</td>\n",
       "      <td>54.0</td>\n",
       "      <td>6.0</td>\n",
       "      <td>2.0</td>\n",
       "      <td>5.0</td>\n",
       "      <td>7.0</td>\n",
       "      <td>21.0</td>\n",
       "    </tr>\n",
       "    <tr>\n",
       "      <th>1</th>\n",
       "      <td>adcocjo01</td>\n",
       "      <td>1956</td>\n",
       "      <td>1</td>\n",
       "      <td>ML1</td>\n",
       "      <td>NL</td>\n",
       "      <td>137</td>\n",
       "      <td>454</td>\n",
       "      <td>76</td>\n",
       "      <td>132</td>\n",
       "      <td>23</td>\n",
       "      <td>...</td>\n",
       "      <td>103.0</td>\n",
       "      <td>1.0</td>\n",
       "      <td>0.0</td>\n",
       "      <td>32</td>\n",
       "      <td>86.0</td>\n",
       "      <td>6.0</td>\n",
       "      <td>1.0</td>\n",
       "      <td>11.0</td>\n",
       "      <td>2.0</td>\n",
       "      <td>11.0</td>\n",
       "    </tr>\n",
       "    <tr>\n",
       "      <th>2</th>\n",
       "      <td>amorosa01</td>\n",
       "      <td>1956</td>\n",
       "      <td>1</td>\n",
       "      <td>BRO</td>\n",
       "      <td>NL</td>\n",
       "      <td>114</td>\n",
       "      <td>292</td>\n",
       "      <td>53</td>\n",
       "      <td>76</td>\n",
       "      <td>11</td>\n",
       "      <td>...</td>\n",
       "      <td>58.0</td>\n",
       "      <td>3.0</td>\n",
       "      <td>4.0</td>\n",
       "      <td>59</td>\n",
       "      <td>51.0</td>\n",
       "      <td>6.0</td>\n",
       "      <td>1.0</td>\n",
       "      <td>8.0</td>\n",
       "      <td>1.0</td>\n",
       "      <td>4.0</td>\n",
       "    </tr>\n",
       "    <tr>\n",
       "      <th>3</th>\n",
       "      <td>aparilu01</td>\n",
       "      <td>1956</td>\n",
       "      <td>1</td>\n",
       "      <td>CHA</td>\n",
       "      <td>AL</td>\n",
       "      <td>152</td>\n",
       "      <td>533</td>\n",
       "      <td>69</td>\n",
       "      <td>142</td>\n",
       "      <td>19</td>\n",
       "      <td>...</td>\n",
       "      <td>56.0</td>\n",
       "      <td>21.0</td>\n",
       "      <td>4.0</td>\n",
       "      <td>34</td>\n",
       "      <td>63.0</td>\n",
       "      <td>2.0</td>\n",
       "      <td>1.0</td>\n",
       "      <td>14.0</td>\n",
       "      <td>1.0</td>\n",
       "      <td>9.0</td>\n",
       "    </tr>\n",
       "    <tr>\n",
       "      <th>4</th>\n",
       "      <td>ashburi01</td>\n",
       "      <td>1956</td>\n",
       "      <td>1</td>\n",
       "      <td>PHI</td>\n",
       "      <td>NL</td>\n",
       "      <td>154</td>\n",
       "      <td>628</td>\n",
       "      <td>94</td>\n",
       "      <td>190</td>\n",
       "      <td>26</td>\n",
       "      <td>...</td>\n",
       "      <td>50.0</td>\n",
       "      <td>10.0</td>\n",
       "      <td>1.0</td>\n",
       "      <td>79</td>\n",
       "      <td>45.0</td>\n",
       "      <td>3.0</td>\n",
       "      <td>5.0</td>\n",
       "      <td>6.0</td>\n",
       "      <td>1.0</td>\n",
       "      <td>4.0</td>\n",
       "    </tr>\n",
       "  </tbody>\n",
       "</table>\n",
       "<p>5 rows × 22 columns</p>\n",
       "</div>"
      ],
      "text/plain": [
       "    playerID  yearID  stint teamID lgID    G   AB    R    H  2B  ...    RBI  \\\n",
       "0  aaronha01    1956      1    ML1   NL  153  609  106  200  34  ...   92.0   \n",
       "1  adcocjo01    1956      1    ML1   NL  137  454   76  132  23  ...  103.0   \n",
       "2  amorosa01    1956      1    BRO   NL  114  292   53   76  11  ...   58.0   \n",
       "3  aparilu01    1956      1    CHA   AL  152  533   69  142  19  ...   56.0   \n",
       "4  ashburi01    1956      1    PHI   NL  154  628   94  190  26  ...   50.0   \n",
       "\n",
       "     SB   CS  BB    SO  IBB  HBP    SH   SF  GIDP  \n",
       "0   2.0  4.0  37  54.0  6.0  2.0   5.0  7.0  21.0  \n",
       "1   1.0  0.0  32  86.0  6.0  1.0  11.0  2.0  11.0  \n",
       "2   3.0  4.0  59  51.0  6.0  1.0   8.0  1.0   4.0  \n",
       "3  21.0  4.0  34  63.0  2.0  1.0  14.0  1.0   9.0  \n",
       "4  10.0  1.0  79  45.0  3.0  5.0   6.0  1.0   4.0  \n",
       "\n",
       "[5 rows x 22 columns]"
      ]
     },
     "execution_count": 11,
     "metadata": {},
     "output_type": "execute_result"
    }
   ],
   "source": [
    "df_batters_no_college.head(5)"
   ]
  },
  {
   "cell_type": "code",
   "execution_count": 12,
   "id": "624bd931-e632-42d5-90cf-90d7d6903b7b",
   "metadata": {},
   "outputs": [
    {
     "name": "stdout",
     "output_type": "stream",
     "text": [
      "Number of games played >= 50, no college: 14747\n"
     ]
    }
   ],
   "source": [
    "no_college_count = pysqldf(\"SELECT COUNT(*) as C from df_batters_no_college\")\n",
    "print(\"Number of games played >= 50, no college: \" + str(no_college_count['C'].iloc[0]))"
   ]
  },
  {
   "cell_type": "code",
   "execution_count": 13,
   "id": "682d699f-7a5c-4ceb-8d52-66ac08513438",
   "metadata": {},
   "outputs": [
    {
     "name": "stdout",
     "output_type": "stream",
     "text": [
      "Number of games played >= 50, college: 9858\n"
     ]
    }
   ],
   "source": [
    "college_count = pysqldf(\"SELECT COUNT(*) as C from df_batters_college where G >= 50\")\n",
    "print(\"Number of games played >= 50, college: \" + str(college_count['C'].iloc[0]))"
   ]
  },
  {
   "cell_type": "code",
   "execution_count": 14,
   "id": "479b1772-d907-4e4f-ab33-feb5faf40d35",
   "metadata": {},
   "outputs": [
    {
     "name": "stdout",
     "output_type": "stream",
     "text": [
      "Number of total players: 24605\n"
     ]
    }
   ],
   "source": [
    "df_combined = p.concat([df_batters_college, df_batters_no_college])\n",
    "df_combined = pysqldf(\"SELECT * FROM df_combined ORDER BY playerID\")\n",
    "count = pysqldf(\"SELECT DISTINCT COUNT(*) AS c FROM df_combined\")\n",
    "print(\"Number of total players: \" + str(count['c'].iloc[0]))"
   ]
  },
  {
   "cell_type": "markdown",
   "id": "761bf8fc-feae-4f8f-b7f3-7a4f83e60153",
   "metadata": {},
   "source": [
    "$$OPS  = \\frac{AB * (H + BB + HBP) + TB * (AB + BB + SF + HBP}{AB * (AB + BB + SF + HBP)}$$\n",
    "<br>\n",
    "$$wOBA = \\frac{x*BB + x*HBP + x*1B + x*2B + x*3B + x*HR}{AB + BB - IBB + SF + HBP}$$"
   ]
  },
  {
   "cell_type": "code",
   "execution_count": 15,
   "id": "7c16a28b-c6a4-47fb-b07f-072ee47bcf5f",
   "metadata": {},
   "outputs": [],
   "source": [
    "def OPS_calc(AB, H, BB, HBP, tb, SF):\n",
    "    numerator = (AB * (H + BB + HBP)) + (tb * (AB + BB + SF + HBP))\n",
    "    denominator = AB * (AB + BB + SF + HBP)\n",
    "    return numerator/denominator\n",
    "\n",
    "def wOBA_calc(AB, H, BB, DBL, TPL, HR, IBB, HBP, SF, year):\n",
    "    numerator = (df_weights.iloc[2021 - year]['wBB'] * BB)\\\n",
    "                + (df_weights.iloc[2021 - year]['wHBP'] * HBP)\\\n",
    "                + (df_weights.iloc[2021 - year]['w1B'] * H)\\\n",
    "                + (df_weights.iloc[2021 - year]['w2B'] * DBL)\\\n",
    "                + (df_weights.iloc[2021 - year]['w3B'] * TPL)\\\n",
    "                + (df_weights.iloc[2021 - year]['wHR'] * HR)\n",
    "    denominator = AB + BB - IBB + SF + HBP\n",
    "    return numerator/denominator"
   ]
  },
  {
   "cell_type": "code",
   "execution_count": 16,
   "id": "76f80c10-d127-45e7-9371-cc192e5a4b21",
   "metadata": {},
   "outputs": [],
   "source": [
    "def season_averager_and_add_college_flag_and_tb(lst_rows):\n",
    "    #Take each column that will be used in wOBA and OPS and average them over the rows\n",
    "        #Columns needed for wOBA = uBB (labeled BB in dataset), HBP, 1B (labeled H in dataset), 2B, 3B, HR, AB, IBB, SF, HBP\n",
    "        #Columns needed for OPS = H, BB, HBP, AB, SF, TB (total bases = 1*H + 2*2B + 3*3B + 4*HR)\n",
    "\n",
    "    #Input: list of rows for one playerID\n",
    "    #Output: a row with averaged statistics for that playerID along with a 2 new columns: one which is college flag indicating whether\n",
    "    #or not that playerID has gone to college, the other is the total bases for that player\n",
    "    ret = []\n",
    "    ret.append(lst_rows[0][0]) # maintaing the playerID\n",
    "    ab = 0\n",
    "    h = 0\n",
    "    dbl = 0\n",
    "    tpl = 0\n",
    "    hr = 0\n",
    "    bb = 0\n",
    "    ibb = 0\n",
    "    hbp = 0\n",
    "    sf = 0\n",
    "    ops = 0\n",
    "    woba = 0\n",
    "    for r in lst_rows:\n",
    "        year, AB, H, DBL, TPL, HR, BB, IBB, HBP, SF = r[1], r[6], r[8], r[9], r[10], r[11], r[15], r[17], r[18], r[20]\n",
    "        ab += AB\n",
    "        h += H\n",
    "        dbl += DBL\n",
    "        tpl += TPL \n",
    "        hr += HR\n",
    "        bb += BB\n",
    "        ibb += IBB\n",
    "        hbp += HBP\n",
    "        sf += SF\n",
    "        tb = h + (2*DBL) + (3*TPL) + (4*HR)\n",
    "        ops += OPS_calc(AB, H, BB, HBP, tb, SF)\n",
    "        woba += wOBA_calc(AB, H, BB, DBL, TPL, HR, IBB, HBP, SF, year)\n",
    "    seasons_played = len(lst_rows)\n",
    "    ret.append(round(ab/seasons_played, 2))\n",
    "    ret.append(round(h/seasons_played, 2))\n",
    "    ret.append(round(dbl/seasons_played, 2))\n",
    "    ret.append(round(tpl/seasons_played, 2))\n",
    "    ret.append(round(hr/seasons_played, 2))\n",
    "    ret.append(round(bb/seasons_played, 2))\n",
    "    ret.append(round(ibb/seasons_played, 2))\n",
    "    ret.append(round(hbp/seasons_played, 2))\n",
    "    ret.append(round(sf/seasons_played, 2))\n",
    "    ret.append(round(ops/seasons_played, 2))\n",
    "    ret.append(round(woba/seasons_played, 2))\n",
    "    row_occurrence = df_batters_college[(df_batters_college['playerID'] == ret[0])].index.tolist()\n",
    "    if(len(row_occurrence) > 0):\n",
    "        ret.append(1)\n",
    "    else:\n",
    "        ret.append(0)\n",
    "    return ret"
   ]
  },
  {
   "cell_type": "code",
   "execution_count": 17,
   "id": "b209b1e1-9c57-4d94-9419-1e8970cafa7a",
   "metadata": {},
   "outputs": [],
   "source": [
    "curr_playerID = df_combined['playerID'].iloc[0]\n",
    "lst = []\n",
    "df_lst = []\n",
    "for index, row in df_combined.iterrows():\n",
    "    if(curr_playerID != row[0]):\n",
    "        ret = season_averager_and_add_college_flag_and_tb(lst)\n",
    "        df_lst.append(ret)\n",
    "        lst.clear()\n",
    "        curr_playerID = row[0]\n",
    "        lst.append(row)\n",
    "    else:\n",
    "        lst.append(row)"
   ]
  },
  {
   "cell_type": "code",
   "execution_count": 18,
   "id": "515bd83e-841c-473b-810e-fd6f7b0a1932",
   "metadata": {},
   "outputs": [],
   "source": [
    "df_career_combined = p.DataFrame(df_lst, columns=[\"playerID\", \"AB\", \"H\", \"2B\", \"3B\", \"HR\", \"BB\", \"IBB\", \"HBP\", \"SF\", \"OPS\", \"wOBA\", \"College\"])"
   ]
  },
  {
   "cell_type": "code",
   "execution_count": 19,
   "id": "e826090e-4de7-4440-bb47-4176fc5a5a9e",
   "metadata": {},
   "outputs": [
    {
     "data": {
      "text/html": [
       "<div>\n",
       "<style scoped>\n",
       "    .dataframe tbody tr th:only-of-type {\n",
       "        vertical-align: middle;\n",
       "    }\n",
       "\n",
       "    .dataframe tbody tr th {\n",
       "        vertical-align: top;\n",
       "    }\n",
       "\n",
       "    .dataframe thead th {\n",
       "        text-align: right;\n",
       "    }\n",
       "</style>\n",
       "<table border=\"1\" class=\"dataframe\">\n",
       "  <thead>\n",
       "    <tr style=\"text-align: right;\">\n",
       "      <th></th>\n",
       "      <th>playerID</th>\n",
       "      <th>AB</th>\n",
       "      <th>H</th>\n",
       "      <th>2B</th>\n",
       "      <th>3B</th>\n",
       "      <th>HR</th>\n",
       "      <th>BB</th>\n",
       "      <th>IBB</th>\n",
       "      <th>HBP</th>\n",
       "      <th>SF</th>\n",
       "      <th>OPS</th>\n",
       "      <th>wOBA</th>\n",
       "      <th>College</th>\n",
       "    </tr>\n",
       "  </thead>\n",
       "  <tbody>\n",
       "    <tr>\n",
       "      <th>0</th>\n",
       "      <td>aaronha01</td>\n",
       "      <td>537.81</td>\n",
       "      <td>164.33</td>\n",
       "      <td>26.67</td>\n",
       "      <td>3.95</td>\n",
       "      <td>34.05</td>\n",
       "      <td>63.10</td>\n",
       "      <td>13.71</td>\n",
       "      <td>1.24</td>\n",
       "      <td>5.38</td>\n",
       "      <td>5.05</td>\n",
       "      <td>0.52</td>\n",
       "      <td>0</td>\n",
       "    </tr>\n",
       "    <tr>\n",
       "      <th>1</th>\n",
       "      <td>aaronto01</td>\n",
       "      <td>250.67</td>\n",
       "      <td>57.67</td>\n",
       "      <td>12.00</td>\n",
       "      <td>2.00</td>\n",
       "      <td>3.33</td>\n",
       "      <td>24.33</td>\n",
       "      <td>0.67</td>\n",
       "      <td>0.00</td>\n",
       "      <td>2.00</td>\n",
       "      <td>0.99</td>\n",
       "      <td>0.33</td>\n",
       "      <td>0</td>\n",
       "    </tr>\n",
       "    <tr>\n",
       "      <th>2</th>\n",
       "      <td>abbotje01</td>\n",
       "      <td>229.50</td>\n",
       "      <td>63.50</td>\n",
       "      <td>14.50</td>\n",
       "      <td>1.00</td>\n",
       "      <td>7.50</td>\n",
       "      <td>15.00</td>\n",
       "      <td>1.00</td>\n",
       "      <td>1.00</td>\n",
       "      <td>3.00</td>\n",
       "      <td>1.02</td>\n",
       "      <td>0.42</td>\n",
       "      <td>1</td>\n",
       "    </tr>\n",
       "    <tr>\n",
       "      <th>3</th>\n",
       "      <td>abbotku01</td>\n",
       "      <td>296.67</td>\n",
       "      <td>75.83</td>\n",
       "      <td>15.83</td>\n",
       "      <td>3.67</td>\n",
       "      <td>9.00</td>\n",
       "      <td>19.67</td>\n",
       "      <td>1.83</td>\n",
       "      <td>2.50</td>\n",
       "      <td>1.50</td>\n",
       "      <td>1.78</td>\n",
       "      <td>0.40</td>\n",
       "      <td>0</td>\n",
       "    </tr>\n",
       "    <tr>\n",
       "      <th>4</th>\n",
       "      <td>abercre01</td>\n",
       "      <td>255.00</td>\n",
       "      <td>54.00</td>\n",
       "      <td>12.00</td>\n",
       "      <td>2.00</td>\n",
       "      <td>5.00</td>\n",
       "      <td>18.00</td>\n",
       "      <td>2.00</td>\n",
       "      <td>3.00</td>\n",
       "      <td>1.00</td>\n",
       "      <td>0.68</td>\n",
       "      <td>0.33</td>\n",
       "      <td>1</td>\n",
       "    </tr>\n",
       "  </tbody>\n",
       "</table>\n",
       "</div>"
      ],
      "text/plain": [
       "    playerID      AB       H     2B    3B     HR     BB    IBB   HBP    SF  \\\n",
       "0  aaronha01  537.81  164.33  26.67  3.95  34.05  63.10  13.71  1.24  5.38   \n",
       "1  aaronto01  250.67   57.67  12.00  2.00   3.33  24.33   0.67  0.00  2.00   \n",
       "2  abbotje01  229.50   63.50  14.50  1.00   7.50  15.00   1.00  1.00  3.00   \n",
       "3  abbotku01  296.67   75.83  15.83  3.67   9.00  19.67   1.83  2.50  1.50   \n",
       "4  abercre01  255.00   54.00  12.00  2.00   5.00  18.00   2.00  3.00  1.00   \n",
       "\n",
       "    OPS  wOBA  College  \n",
       "0  5.05  0.52        0  \n",
       "1  0.99  0.33        0  \n",
       "2  1.02  0.42        1  \n",
       "3  1.78  0.40        0  \n",
       "4  0.68  0.33        1  "
      ]
     },
     "execution_count": 19,
     "metadata": {},
     "output_type": "execute_result"
    }
   ],
   "source": [
    "df_career_combined.head()"
   ]
  },
  {
   "cell_type": "code",
   "execution_count": 20,
   "id": "d1d545e8-f062-4bb8-a277-703b6b2d2822",
   "metadata": {},
   "outputs": [],
   "source": [
    "def add_to_dictionary(d, itemsToInsert):\n",
    "    for key, value in itemsToInsert.items():\n",
    "        try:\n",
    "            d[key].append(value)\n",
    "        except KeyError as err:\n",
    "            d[key] = []\n",
    "            d[key].append(value)\n",
    "    return d\n",
    "\n",
    "college = {}\n",
    "no_college = {}\n",
    "for index, row in df_career_combined.iterrows():\n",
    "    AB, H, DBL, TPL, HR, BB, IBB, HBP, SF, ops, woba, college_flag = row[1], row[2], row[3], row[4], row[5], row[6], row[7], row[8], row[9], \\\n",
    "                                                        row[10], row[11], row[12]\n",
    "    features = {\"AB\": AB, \"H\": H, \"DBL\": DBL, \"TPL\": TPL, \"HR\": HR, \"BB\": BB, \"IBB\": IBB, \"HBP\": HBP, \"SF\": SF, \"OPS\": ops, \"wOBA\": woba}\n",
    "    if college_flag:\n",
    "        college = add_to_dictionary(college, features)\n",
    "    else:\n",
    "        no_college = add_to_dictionary(no_college, features)"
   ]
  },
  {
   "cell_type": "code",
   "execution_count": 22,
   "id": "6b8ccff8-98f9-49ce-8063-80557ab41ef4",
   "metadata": {},
   "outputs": [],
   "source": [
    "college_AB = college[\"AB\"]\n",
    "no_college_AB = no_college[\"AB\"]\n",
    "# print(len(college, AB)"
   ]
  },
  {
   "cell_type": "markdown",
   "id": "2e6240b6-f4fb-4984-9bc5-4eeaff7c5ca6",
   "metadata": {},
   "source": [
    "Need model (or two) for binary classification (two classes = college or no college) </br>\n",
    "Choices:</br>\n",
    "    1) Logistic regression</br>\n",
    "    2) Naive Bayesian (probably not)</br>\n",
    "    3) Support Vector Machine</br>\n",
    "    4) k-Nearest-Neighbors (doesn't really train, just plots data and finds nearest k-neighbors, so probably not or as second model)</br>\n",
    "    5) Decision tree (probably not - too large!) </br>\n",
    "    **6) Artificial Neural Network w/ Single layer perception (trying this first)** (https://www.kaggle.com/mirichoi0218/ann-making-model-for-binary-classification)</br>"
   ]
  },
  {
   "cell_type": "code",
   "execution_count": 19,
   "id": "9797f4bb-f3c6-4d87-8f54-0e5f5000bc80",
   "metadata": {},
   "outputs": [
    {
     "data": {
      "image/png": "[encoded data removed]",
      "text/plain": [
       "<Figure size 720x720 with 2 Axes>"
      ]
     },
     "metadata": {
      "needs_background": "light"
     },
     "output_type": "display_data"
    }
   ],
   "source": [
    "corr = df_career_combined.iloc[:,1:-1].corr()\n",
    "colormap = sns.diverging_palette(220, 10, as_cmap = True)\n",
    "plt.figure(figsize=(10,10))\n",
    "sns.heatmap(corr, cbar = True, square = True, annot = True, fmt = '.2f', annot_kws = {'size': 12}, \\\n",
    "            cmap = colormap, linewidths = 0, linecolor = 'white')\n",
    "plt.title('Correlation of Career Statistics Features')\n",
    "plt.show()"
   ]
  },
  {
   "cell_type": "code",
   "execution_count": 20,
   "id": "0e03769c-875a-42b9-816b-f60260228406",
   "metadata": {},
   "outputs": [
    {
     "name": "stdout",
     "output_type": "stream",
     "text": [
      "Dataset shape:  (4694, 13)\n"
     ]
    }
   ],
   "source": [
    "print(\"Dataset shape: \", df_career_combined.shape)"
   ]
  },
  {
   "cell_type": "code",
   "execution_count": 21,
   "id": "cdd399e1-b4cb-4993-9836-3a6002dfef55",
   "metadata": {},
   "outputs": [
    {
     "data": {
      "text/plain": [
       "<AxesSubplot:xlabel='College', ylabel='count'>"
      ]
     },
     "execution_count": 21,
     "metadata": {},
     "output_type": "execute_result"
    },
    {
     "data": {
      "image/png": "[encoded data removed]",
      "text/plain": [
       "<Figure size 432x288 with 1 Axes>"
      ]
     },
     "metadata": {
      "needs_background": "light"
     },
     "output_type": "display_data"
    }
   ],
   "source": [
    "sns.countplot(df_career_combined['College'], label = \"Count\")"
   ]
  },
  {
   "cell_type": "markdown",
   "id": "048f4e84-2370-4185-baad-447f72cbd78b",
   "metadata": {},
   "source": [
    "# ANN SLP"
   ]
  },
  {
   "cell_type": "code",
   "execution_count": 22,
   "id": "c4d0e300-77af-4ca7-aece-9af9925a7f9f",
   "metadata": {},
   "outputs": [
    {
     "name": "stdout",
     "output_type": "stream",
     "text": [
      "Train data shape:  (3285, 13)\n",
      "Test data shape:  (1409, 13)\n"
     ]
    }
   ],
   "source": [
    "train, test = train_test_split(df_career_combined, test_size = 0.3, random_state = 12)\n",
    "print(\"Train data shape: \", train.shape)\n",
    "print(\"Test data shape: \", test.shape)"
   ]
  },
  {
   "cell_type": "code",
   "execution_count": 33,
   "id": "4f20a967-c38b-4702-9f7d-fdd7c776e15f",
   "metadata": {},
   "outputs": [
    {
     "name": "stdout",
     "output_type": "stream",
     "text": [
      "Train data shape:  (3285, 12)\n",
      "Test data shape:  (1409, 12)\n"
     ]
    }
   ],
   "source": [
    "train_player_id = train['playerID']\n",
    "test_player_id = test['playerID']\n",
    "train_data = train.iloc[:, 1:]\n",
    "test_data = test.iloc[:, 1:]\n",
    "\n",
    "print(\"Train data shape: \", train_data.shape)\n",
    "print(\"Test data shape: \", test_data.shape)"
   ]
  },
  {
   "cell_type": "code",
   "execution_count": 29,
   "id": "f648e0e3-1509-4264-9e41-0a3414bf2b29",
   "metadata": {},
   "outputs": [
    {
     "name": "stdout",
     "output_type": "stream",
     "text": [
      "Train data shape:  (3285, 11)\n",
      "Test data shape:  (1409, 11)\n"
     ]
    }
   ],
   "source": [
    "train_x = train_data.iloc[:, :-1]\n",
    "train_x = MinMaxScaler().fit_transform(train_x)\n",
    "test_x = test_data.iloc[:, :-1]\n",
    "test_x = MinMaxScaler().fit_transform(test_x)\n",
    "print(\"Train data shape: \", train_x.shape)\n",
    "print(\"Test data shape: \", test_x.shape)"
   ]
  },
  {
   "cell_type": "code",
   "execution_count": 37,
   "id": "f6cf5404-36b5-4a7f-ad34-5b7b330453c1",
   "metadata": {},
   "outputs": [
    {
     "name": "stdout",
     "output_type": "stream",
     "text": [
      "Train_y data shape:  (3285, 1)\n",
      "Test_y data shape:  (1409, 1)\n"
     ]
    }
   ],
   "source": [
    "train_y = train_data.iloc[:,-1:]\n",
    "test_y = test_data.iloc[:, -1:]\n",
    "print(\"Train_y data shape: \", train_y.shape)\n",
    "print(\"Test_y data shape: \", test_y.shape)"
   ]
  },
  {
   "cell_type": "code",
   "execution_count": 38,
   "id": "846c2121-a3ae-4c44-a656-42b065085a20",
   "metadata": {},
   "outputs": [],
   "source": [
    "X = tf.placeholder(tf.float32, [None, 11])\n",
    "Y = tf.placeholder(tf.float32, [None, 1])"
   ]
  },
  {
   "cell_type": "code",
   "execution_count": 40,
   "id": "e86d4423-bc2b-4d43-aea8-3e7b72dffbb2",
   "metadata": {},
   "outputs": [],
   "source": [
    "W = tf.Variable(tf.random_normal([11,1], seed=0), name = 'weight')\n",
    "b = tf.Variable(tf.random_normal([1], seed=0), name = 'bias')"
   ]
  },
  {
   "cell_type": "code",
   "execution_count": 41,
   "id": "39220848-3b71-4b4c-a237-e9a965009742",
   "metadata": {},
   "outputs": [],
   "source": [
    "logits = tf.matmul(X,W) + b"
   ]
  },
  {
   "cell_type": "code",
   "execution_count": 44,
   "id": "e5c1c638-c521-4345-91ef-0aea630db8b2",
   "metadata": {},
   "outputs": [],
   "source": [
    "hypothesis = tf.nn.sigmoid(logits)\n",
    "cost_i = tf.nn.sigmoid_cross_entropy_with_logits(logits = logits, labels = Y)\n",
    "cost = tf.reduce_mean(cost_i)"
   ]
  },
  {
   "cell_type": "code",
   "execution_count": 45,
   "id": "c2f16309-f36d-4bdb-b748-0ded9c4281ee",
   "metadata": {},
   "outputs": [],
   "source": [
    "train = tf.train.GradientDescentOptimizer(learning_rate=0.1).minimize(cost)"
   ]
  },
  {
   "cell_type": "code",
   "execution_count": 46,
   "id": "67b769ce-03d8-44f6-a016-1517e598e77b",
   "metadata": {},
   "outputs": [],
   "source": [
    "prediction = tf.cast(hypothesis > 0.5, dtype = tf.float32)\n",
    "correct_prediction = tf.equal(prediction, Y)\n",
    "accuracy = tf.reduce_mean(tf.cast(correct_prediction, dtype = tf.float32))"
   ]
  },
  {
   "cell_type": "code",
   "execution_count": 48,
   "id": "a6adf3a9-64f4-4d70-ab5d-efb8397a5849",
   "metadata": {},
   "outputs": [
    {
     "name": "stdout",
     "output_type": "stream",
     "text": [
      "\n",
      "============Processing============\n"
     ]
    },
    {
     "name": "stderr",
     "output_type": "stream",
     "text": [
      "2021-10-28 14:09:38.778481: I tensorflow/core/platform/cpu_feature_guard.cc:145] This TensorFlow binary is optimized with Intel(R) MKL-DNN to use the following CPU instructions in performance critical operations:  SSE4.1 SSE4.2 AVX AVX2 AVX512F FMA\n",
      "To enable them in non-MKL-DNN operations, rebuild TensorFlow with the appropriate compiler flags.\n",
      "2021-10-28 14:09:38.778868: I tensorflow/core/common_runtime/process_util.cc:115] Creating new thread pool with default inter op setting: 8. Tune using inter_op_parallelism_threads for best performance.\n"
     ]
    },
    {
     "name": "stdout",
     "output_type": "stream",
     "text": [
      "Step:     0\tLoss: 0.688\tAcc: 54.98%\n",
      "Step:  1000\tLoss: 0.672\tAcc: 58.75%\n",
      "Step:  2000\tLoss: 0.668\tAcc: 59.06%\n",
      "Step:  3000\tLoss: 0.666\tAcc: 59.33%\n",
      "Step:  4000\tLoss: 0.664\tAcc: 59.45%\n",
      "Step:  5000\tLoss: 0.663\tAcc: 59.51%\n",
      "Step:  6000\tLoss: 0.663\tAcc: 59.54%\n",
      "Step:  7000\tLoss: 0.662\tAcc: 59.57%\n",
      "Step:  8000\tLoss: 0.661\tAcc: 59.60%\n",
      "Step:  9000\tLoss: 0.661\tAcc: 59.54%\n",
      "Step: 10000\tLoss: 0.661\tAcc: 59.54%\n",
      "\n",
      "============Results============\n",
      "Model Prediction = 0.5954338\n",
      "Test Prediction = 0.61391056\n"
     ]
    }
   ],
   "source": [
    "print(\"\\n============Processing============\")\n",
    "with tf.Session() as sess:\n",
    "    sess.run(tf.global_variables_initializer())\n",
    "    for step in range(10001):\n",
    "        sess.run(train, feed_dict={X: train_x, Y: train_y})\n",
    "        if step % 1000 == 0:\n",
    "            loss, acc = sess.run([cost, accuracy], feed_dict={X: train_x, Y: train_y})\n",
    "            print(\"Step: {:5}\\tLoss: {:.3f}\\tAcc: {:.2%}\".format(step, loss, acc))\n",
    "\n",
    "    train_acc = sess.run(accuracy, feed_dict={X: train_x, Y: train_y})\n",
    "    test_acc,test_predict,test_correct = sess.run([accuracy,prediction,correct_prediction], feed_dict={X: test_x, Y: test_y})\n",
    "\n",
    "    print(\"\\n============Results============\")\n",
    "    print(\"Model Prediction =\", train_acc)\n",
    "    print(\"Test Prediction =\", test_acc)"
   ]
  },
  {
   "cell_type": "markdown",
   "id": "87bf8072-b129-4010-bed8-e817f2a63440",
   "metadata": {},
   "source": [
    "# ANN SLP PCA"
   ]
  },
  {
   "cell_type": "code",
   "execution_count": 49,
   "id": "2ee69c27-eca8-4ec7-8b8b-19ee05547023",
   "metadata": {},
   "outputs": [],
   "source": [
    "def ann_slp_pca():\n",
    "    sklearn_pca = sklearnPCA(n_components=10)\n",
    "    print(\"==============DATA SUMMARY==============\")\n",
    "    pca_train_x = sklearn_pca.fit_transform(train_x)\n",
    "    print(\"PCA Train shape: \", pca_train_x.shape)\n",
    "    pca_test_x = sklearn_pca.fit_transform(test_x)\n",
    "    print(\"PCA Test shape: \", pca_test_x.shape)\n",
    "    \n",
    "    X = tf.placeholder(tf.float32, [None, 10])\n",
    "    Y = tf.placeholder(tf.float32, [None, 1])\n",
    "    \n",
    "    W = tf.Variable(tf.random_normal([10,1], seed=0), name='weight')\n",
    "    b = tf.Variable(tf.random_normal([1], seed=0), name='bias')\n",
    "    \n",
    "    logits = tf.matmul(X,W) + b\n",
    "    hypothesis = tf.nn.sigmoid(logits)\n",
    "\n",
    "    cost_i = tf.nn.sigmoid_cross_entropy_with_logits(logits=logits,labels=Y)\n",
    "    cost = tf.reduce_mean(cost_i)\n",
    "\n",
    "    train = tf.train.GradientDescentOptimizer(learning_rate=0.2).minimize(cost)\n",
    "\n",
    "    prediction = tf.cast(hypothesis > 0.5, dtype=tf.float32)\n",
    "    correct_prediction = tf.equal(prediction, Y)\n",
    "    accuracy = tf.reduce_mean(tf.cast(correct_prediction, dtype=tf.float32))\n",
    "    print(\"\\n============Processing============\")\n",
    "    with tf.Session() as sess:\n",
    "        sess.run(tf.global_variables_initializer())\n",
    "        for step in range(10001):\n",
    "            sess.run(train, feed_dict={X: pca_train_x, Y: train_y})\n",
    "            if step % 1000 == 0:\n",
    "                loss, acc = sess.run([cost, accuracy], feed_dict={X: pca_train_x, Y: train_y})\n",
    "                print(\"Step: {:5}\\tLoss: {:.3f}\\tAcc: {:.2%}\".format(step, loss, acc))\n",
    "\n",
    "        train_acc = sess.run(accuracy, feed_dict={X: pca_train_x, Y: train_y})\n",
    "        test_acc,test_predict,test_correct = sess.run([accuracy,prediction,correct_prediction], feed_dict={X: pca_test_x, Y: test_y})\n",
    "        \n",
    "        print(\"\\n============Results============\")\n",
    "        print(\"PCA Model Prediction =\", train_acc)\n",
    "        print(\"PCA Test Prediction =\", test_acc)\n",
    "        \n",
    "        return train_acc, test_acc"
   ]
  },
  {
   "cell_type": "code",
   "execution_count": 50,
   "id": "11baccb7-9cc3-4c96-bfc7-826c084ff063",
   "metadata": {},
   "outputs": [
    {
     "name": "stdout",
     "output_type": "stream",
     "text": [
      "==============DATA SUMMARY==============\n",
      "PCA Train shape:  (3285, 10)\n",
      "PCA Test shape:  (1409, 10)\n",
      "\n",
      "============Processing============\n",
      "Step:     0\tLoss: 0.694\tAcc: 56.47%\n",
      "Step:  1000\tLoss: 0.677\tAcc: 58.72%\n",
      "Step:  2000\tLoss: 0.670\tAcc: 59.03%\n",
      "Step:  3000\tLoss: 0.666\tAcc: 59.15%\n",
      "Step:  4000\tLoss: 0.663\tAcc: 58.93%\n",
      "Step:  5000\tLoss: 0.662\tAcc: 59.15%\n",
      "Step:  6000\tLoss: 0.661\tAcc: 59.30%\n",
      "Step:  7000\tLoss: 0.660\tAcc: 59.39%\n",
      "Step:  8000\tLoss: 0.659\tAcc: 59.60%\n",
      "Step:  9000\tLoss: 0.659\tAcc: 59.91%\n",
      "Step: 10000\tLoss: 0.659\tAcc: 60.03%\n",
      "\n",
      "============Results============\n",
      "PCA Model Prediction = 0.6003044\n",
      "PCA Test Prediction = 0.5677786\n"
     ]
    }
   ],
   "source": [
    "ann_slp_pca_train_acc, ann_slp_pca_test_acc = ann_slp_pca()"
   ]
  },
  {
   "cell_type": "markdown",
   "id": "bbaa6057-7e66-46a9-81b3-a93d6c382f4f",
   "metadata": {},
   "source": [
    "# ANN MLP"
   ]
  },
  {
   "cell_type": "code",
   "execution_count": 51,
   "id": "f9218179-06fb-45bc-a262-fe9138ae1e8f",
   "metadata": {},
   "outputs": [
    {
     "name": "stdout",
     "output_type": "stream",
     "text": [
      "===========Data Summary===========\n",
      "Training Data : (3285, 11)\n",
      "Testing Data : (1409, 11)\n",
      "\n",
      "============Processing============\n",
      "Step:     0\tLoss: 1.032\tAcc: 59.09%\n",
      "Step:  1000\tLoss: 0.691\tAcc: 57.26%\n",
      "Step:  2000\tLoss: 0.682\tAcc: 57.72%\n",
      "Step:  3000\tLoss: 0.680\tAcc: 58.20%\n",
      "Step:  4000\tLoss: 0.679\tAcc: 58.23%\n",
      "Step:  5000\tLoss: 0.677\tAcc: 58.45%\n",
      "Step:  6000\tLoss: 0.676\tAcc: 58.54%\n",
      "Step:  7000\tLoss: 0.675\tAcc: 58.69%\n",
      "Step:  8000\tLoss: 0.674\tAcc: 58.75%\n",
      "Step:  9000\tLoss: 0.674\tAcc: 58.78%\n",
      "Step: 10000\tLoss: 0.673\tAcc: 58.84%\n",
      "\n",
      "============Results============\n",
      "Model Prediction = 0.58843225\n",
      "Test Prediction = 0.5805536\n"
     ]
    }
   ],
   "source": [
    "def ann_mlp():\n",
    "    print(\"===========Data Summary===========\")\n",
    "    print(\"Training Data :\", train_x.shape)\n",
    "    print(\"Testing Data :\", test_x.shape)\n",
    "\n",
    "    X = tf.placeholder(tf.float32, [None,11])\n",
    "    Y = tf.placeholder(tf.float32, [None, 1])\n",
    "\n",
    "    # input\n",
    "    W1 = tf.Variable(tf.random_normal([11,60], seed=0), name='weight1')\n",
    "    b1 = tf.Variable(tf.random_normal([60], seed=0), name='bias1')\n",
    "    layer1 = tf.nn.sigmoid(tf.matmul(X,W1) + b1)\n",
    "\n",
    "    # hidden1\n",
    "    W2 = tf.Variable(tf.random_normal([60,60], seed=0), name='weight2')\n",
    "    b2 = tf.Variable(tf.random_normal([60], seed=0), name='bias2')\n",
    "    layer2 = tf.nn.sigmoid(tf.matmul(layer1,W2) + b2)\n",
    "\n",
    "    # hidden2\n",
    "    W3 = tf.Variable(tf.random_normal([60,90], seed=0), name='weight3')\n",
    "    b3 = tf.Variable(tf.random_normal([90], seed=0), name='bias3')\n",
    "    layer3 = tf.nn.sigmoid(tf.matmul(layer2,W3) + b3)\n",
    "\n",
    "    # output\n",
    "    W4 = tf.Variable(tf.random_normal([90,1], seed=0), name='weight4')\n",
    "    b4 = tf.Variable(tf.random_normal([1], seed=0), name='bias4')\n",
    "    logits = tf.matmul(layer3,W4) + b4\n",
    "    hypothesis = tf.nn.sigmoid(logits)\n",
    "\n",
    "    cost_i = tf.nn.sigmoid_cross_entropy_with_logits(logits=logits,labels=Y)\n",
    "    cost = tf.reduce_mean(cost_i)\n",
    "\n",
    "    train = tf.train.GradientDescentOptimizer(learning_rate=0.001).minimize(cost)\n",
    "\n",
    "    prediction = tf.cast(hypothesis > 0.5, dtype=tf.float32)\n",
    "    correct_prediction = tf.equal(prediction, Y)\n",
    "    accuracy = tf.reduce_mean(tf.cast(correct_prediction, dtype=tf.float32))\n",
    "\n",
    "    print(\"\\n============Processing============\")\n",
    "    with tf.Session() as sess:\n",
    "        sess.run(tf.global_variables_initializer())\n",
    "        for step in range(10001):\n",
    "            sess.run(train, feed_dict={X: train_x, Y: train_y})\n",
    "            if step % 1000 == 0:\n",
    "                loss, acc = sess.run([cost, accuracy], feed_dict={X: train_x, Y: train_y})\n",
    "                print(\"Step: {:5}\\tLoss: {:.3f}\\tAcc: {:.2%}\".format(step, loss, acc))\n",
    "\n",
    "        train_acc = sess.run(accuracy, feed_dict={X: train_x, Y: train_y})\n",
    "        test_acc,test_predict,test_correct = sess.run([accuracy,prediction,correct_prediction], feed_dict={X: test_x, Y: test_y})\n",
    "        \n",
    "        print(\"\\n============Results============\")\n",
    "        print(\"Model Prediction =\", train_acc)\n",
    "        print(\"Test Prediction =\", test_acc)\n",
    "        \n",
    "        return train_acc,test_acc\n",
    "    \n",
    "ann_mlp_train_acc, ann_mlp_test_acc = ann_mlp()"
   ]
  },
  {
   "cell_type": "code",
   "execution_count": 56,
   "id": "6fcd067e-8b79-48dc-827f-f4c85474c787",
   "metadata": {},
   "outputs": [
    {
     "data": {
      "text/html": [
       "<div>\n",
       "<style scoped>\n",
       "    .dataframe tbody tr th:only-of-type {\n",
       "        vertical-align: middle;\n",
       "    }\n",
       "\n",
       "    .dataframe tbody tr th {\n",
       "        vertical-align: top;\n",
       "    }\n",
       "\n",
       "    .dataframe thead th {\n",
       "        text-align: right;\n",
       "    }\n",
       "</style>\n",
       "<table border=\"1\" class=\"dataframe\">\n",
       "  <thead>\n",
       "    <tr style=\"text-align: right;\">\n",
       "      <th></th>\n",
       "      <th>playerID</th>\n",
       "      <th>Predict_Type</th>\n",
       "      <th>Origin_Type</th>\n",
       "      <th>Correct</th>\n",
       "    </tr>\n",
       "  </thead>\n",
       "  <tbody>\n",
       "    <tr>\n",
       "      <th>1467</th>\n",
       "      <td>garciad01</td>\n",
       "      <td>0</td>\n",
       "      <td>0</td>\n",
       "      <td>True</td>\n",
       "    </tr>\n",
       "    <tr>\n",
       "      <th>3215</th>\n",
       "      <td>paniajo01</td>\n",
       "      <td>0</td>\n",
       "      <td>0</td>\n",
       "      <td>True</td>\n",
       "    </tr>\n",
       "    <tr>\n",
       "      <th>2295</th>\n",
       "      <td>klippjo01</td>\n",
       "      <td>0</td>\n",
       "      <td>0</td>\n",
       "      <td>True</td>\n",
       "    </tr>\n",
       "    <tr>\n",
       "      <th>4032</th>\n",
       "      <td>speiech01</td>\n",
       "      <td>0</td>\n",
       "      <td>1</td>\n",
       "      <td>False</td>\n",
       "    </tr>\n",
       "    <tr>\n",
       "      <th>4688</th>\n",
       "      <td>zipfebu01</td>\n",
       "      <td>0</td>\n",
       "      <td>0</td>\n",
       "      <td>True</td>\n",
       "    </tr>\n",
       "    <tr>\n",
       "      <th>2571</th>\n",
       "      <td>mabryjo01</td>\n",
       "      <td>0</td>\n",
       "      <td>1</td>\n",
       "      <td>False</td>\n",
       "    </tr>\n",
       "    <tr>\n",
       "      <th>48</th>\n",
       "      <td>aldremi01</td>\n",
       "      <td>0</td>\n",
       "      <td>1</td>\n",
       "      <td>False</td>\n",
       "    </tr>\n",
       "    <tr>\n",
       "      <th>456</th>\n",
       "      <td>boteda01</td>\n",
       "      <td>0</td>\n",
       "      <td>0</td>\n",
       "      <td>True</td>\n",
       "    </tr>\n",
       "    <tr>\n",
       "      <th>2522</th>\n",
       "      <td>lopezhe01</td>\n",
       "      <td>0</td>\n",
       "      <td>0</td>\n",
       "      <td>True</td>\n",
       "    </tr>\n",
       "    <tr>\n",
       "      <th>1370</th>\n",
       "      <td>forstte01</td>\n",
       "      <td>0</td>\n",
       "      <td>0</td>\n",
       "      <td>True</td>\n",
       "    </tr>\n",
       "  </tbody>\n",
       "</table>\n",
       "</div>"
      ],
      "text/plain": [
       "       playerID  Predict_Type  Origin_Type  Correct\n",
       "1467  garciad01             0            0     True\n",
       "3215  paniajo01             0            0     True\n",
       "2295  klippjo01             0            0     True\n",
       "4032  speiech01             0            1    False\n",
       "4688  zipfebu01             0            0     True\n",
       "2571  mabryjo01             0            1    False\n",
       "48    aldremi01             0            1    False\n",
       "456    boteda01             0            0     True\n",
       "2522  lopezhe01             0            0     True\n",
       "1370  forstte01             0            0     True"
      ]
     },
     "execution_count": 56,
     "metadata": {},
     "output_type": "execute_result"
    }
   ],
   "source": [
    "sub = p.DataFrame()\n",
    "sub['playerID'] = test_player_id\n",
    "sub['Predict_Type'] = test_predict.astype(int)\n",
    "sub['Origin_Type'] = test_y\n",
    "sub['Correct'] = test_correct\n",
    "sub.head(10)"
   ]
  },
  {
   "cell_type": "markdown",
   "id": "c2339ab7-dddb-4ffc-841c-f03666a088f9",
   "metadata": {},
   "source": [
    "# Support Vector Machine"
   ]
  },
  {
   "cell_type": "code",
   "execution_count": 83,
   "id": "c14ea3ae-f757-4d74-89ba-4183488f4273",
   "metadata": {},
   "outputs": [],
   "source": [
    "data = df_career_combined.iloc[:, 1:]\n",
    "X_train, X_test, y_train, y_test = train_test_split(data, df_career_combined['College'], test_size = 0.30, random_state = 12)\n",
    "X_train = X_train.iloc[:, :-1]\n",
    "X_test = X_test.iloc[:, :-1]"
   ]
  },
  {
   "cell_type": "code",
   "execution_count": 88,
   "id": "ddb89666-b97f-4ad0-9883-263558baeeba",
   "metadata": {},
   "outputs": [],
   "source": [
    "clf = svm.SVC(kernel='poly', degree = 2)"
   ]
  },
  {
   "cell_type": "code",
   "execution_count": 89,
   "id": "120a3f80-b44b-4c7b-aefe-9891d68469cc",
   "metadata": {},
   "outputs": [
    {
     "data": {
      "text/plain": [
       "SVC(degree=2, kernel='poly')"
      ]
     },
     "execution_count": 89,
     "metadata": {},
     "output_type": "execute_result"
    }
   ],
   "source": [
    "clf.fit(X_train, y_train)"
   ]
  },
  {
   "cell_type": "code",
   "execution_count": 90,
   "id": "051dcc51-02fb-414f-8442-a7e7930f8f4f",
   "metadata": {},
   "outputs": [],
   "source": [
    "y_pred = clf.predict(X_test)"
   ]
  },
  {
   "cell_type": "code",
   "execution_count": 91,
   "id": "b8fe0328-6aad-4fc5-9700-6662c074e6bf",
   "metadata": {},
   "outputs": [
    {
     "name": "stdout",
     "output_type": "stream",
     "text": [
      "Accuracy:  0.6132008516678495\n"
     ]
    }
   ],
   "source": [
    "print(\"Accuracy: \", metrics.accuracy_score(y_test, y_pred))"
   ]
  },
  {
   "cell_type": "code",
   "execution_count": 71,
   "id": "8b51063b-2482-445e-bcf3-3dc269244f4c",
   "metadata": {},
   "outputs": [
    {
     "data": {
      "text/html": [
       "<div>\n",
       "<style scoped>\n",
       "    .dataframe tbody tr th:only-of-type {\n",
       "        vertical-align: middle;\n",
       "    }\n",
       "\n",
       "    .dataframe tbody tr th {\n",
       "        vertical-align: top;\n",
       "    }\n",
       "\n",
       "    .dataframe thead th {\n",
       "        text-align: right;\n",
       "    }\n",
       "</style>\n",
       "<table border=\"1\" class=\"dataframe\">\n",
       "  <thead>\n",
       "    <tr style=\"text-align: right;\">\n",
       "      <th></th>\n",
       "      <th>AB</th>\n",
       "      <th>H</th>\n",
       "      <th>DBL</th>\n",
       "      <th>TPL</th>\n",
       "      <th>HR</th>\n",
       "      <th>BB</th>\n",
       "      <th>IBB</th>\n",
       "      <th>HBP</th>\n",
       "      <th>SF</th>\n",
       "      <th>OPS</th>\n",
       "      <th>wOBA</th>\n",
       "    </tr>\n",
       "  </thead>\n",
       "  <tbody>\n",
       "    <tr>\n",
       "      <th>College Ball</th>\n",
       "      <td>215.651630</td>\n",
       "      <td>55.295416</td>\n",
       "      <td>10.213314</td>\n",
       "      <td>1.302446</td>\n",
       "      <td>5.449153</td>\n",
       "      <td>20.998608</td>\n",
       "      <td>1.602091</td>\n",
       "      <td>1.890508</td>\n",
       "      <td>1.722875</td>\n",
       "      <td>1.400307</td>\n",
       "      <td>0.317279</td>\n",
       "    </tr>\n",
       "    <tr>\n",
       "      <th>No College Ball</th>\n",
       "      <td>243.560474</td>\n",
       "      <td>62.769298</td>\n",
       "      <td>11.169668</td>\n",
       "      <td>1.564096</td>\n",
       "      <td>6.683376</td>\n",
       "      <td>22.405016</td>\n",
       "      <td>1.873134</td>\n",
       "      <td>1.944089</td>\n",
       "      <td>1.862613</td>\n",
       "      <td>1.450706</td>\n",
       "      <td>0.331330</td>\n",
       "    </tr>\n",
       "  </tbody>\n",
       "</table>\n",
       "</div>"
      ],
      "text/plain": [
       "                         AB          H        DBL       TPL        HR  \\\n",
       "College Ball     215.651630  55.295416  10.213314  1.302446  5.449153   \n",
       "No College Ball  243.560474  62.769298  11.169668  1.564096  6.683376   \n",
       "\n",
       "                        BB       IBB       HBP        SF       OPS      wOBA  \n",
       "College Ball     20.998608  1.602091  1.890508  1.722875  1.400307  0.317279  \n",
       "No College Ball  22.405016  1.873134  1.944089  1.862613  1.450706  0.331330  "
      ]
     },
     "execution_count": 71,
     "metadata": {},
     "output_type": "execute_result"
    }
   ],
   "source": [
    "stats_college = p.DataFrame.from_dict(college)\n",
    "sc = stats_college.mean(axis = 0)\n",
    "stats_no_college = p.DataFrame.from_dict(no_college)\n",
    "snc = stats_no_college.mean(axis = 0)\n",
    "stats = p.DataFrame(columns = [\"AB\", \"H\", \"DBL\", \"TPL\", \"HR\", \"BB\", \"IBB\", \"HBP\", \"SF\", \"OPS\", \"wOBA\"])\n",
    "stats = stats.append(sc, ignore_index=True) #ZERO INDEX IS COLLEGE\n",
    "stats = stats.append(snc, ignore_index=True) #ONE INDEX IS NO COLLEGE\n",
    "stats.index = [\"College Ball\", \"No College Ball\"]\n",
    "stats.head()"
   ]
  },
  {
   "cell_type": "code",
   "execution_count": 84,
   "id": "15852f07-f5c6-460e-ba1f-3ca509b640ea",
   "metadata": {},
   "outputs": [
    {
     "data": {
      "text/plain": [
       "<AxesSubplot:>"
      ]
     },
     "execution_count": 84,
     "metadata": {},
     "output_type": "execute_result"
    },
    {
     "data": {
      "image/png": "[encoded data removed]",
      "text/plain": [
       "<Figure size 432x288 with 1 Axes>"
      ]
     },
     "metadata": {
      "needs_background": "light"
     },
     "output_type": "display_data"
    }
   ],
   "source": []
  },
  {
   "cell_type": "code",
   "execution_count": 135,
   "id": "b311f216-fbe2-43d6-a500-a3e0806ab7bf",
   "metadata": {},
   "outputs": [
    {
     "data": {
      "image/png": "[encoded data removed]",
      "text/plain": [
       "<Figure size 720x720 with 1 Axes>"
      ]
     },
     "metadata": {
      "needs_background": "light"
     },
     "output_type": "display_data"
    },
    {
     "data": {
      "image/png": "[encoded data removed]",
      "text/plain": [
       "<Figure size 720x720 with 1 Axes>"
      ]
     },
     "metadata": {
      "needs_background": "light"
     },
     "output_type": "display_data"
    }
   ],
   "source": [
    "my_colors = [(x/10.0, x/20.0, 0.75) for x in range(len(stats))]\n",
    "exclude2 = ['BB', 'DBL', 'HBP', 'HR', 'IBB', 'OPS', 'SF', 'TPL', 'wOBA']\n",
    "cols = stats.loc[:, stats.columns.difference(exclude2)].plot(kind=\"barh\", rot = 0, figsize=(10,10), \\\n",
    "                                                             title = \"College Ball Statistics vs. Non-College Ball Statistics \\\n",
    "                                                             (Hits and At-Bats)\")\n",
    "exclude1 = ['AB', 'H']\n",
    "stats.loc[:, stats.columns.difference(exclude1)].sort_values(by=['DBL', 'HBP', 'HR']).plot(kind=\"barh\", rot = 0, figsize=(10,10)) \n",
    "plt.title(\"College Ball Statistics vs. Non-College Ball Statistics (Remaining Stats Used)\")\n",
    "plt.show()"
   ]
  },
  {
   "cell_type": "code",
   "execution_count": null,
   "id": "649ae880-9813-46a1-a5ec-35ed787be2bf",
   "metadata": {},
   "outputs": [],
   "source": []
  }
 ],
 "metadata": {
  "kernelspec": {
   "display_name": "Python 3",
   "language": "python",
   "name": "python3"
  },
  "language_info": {
   "codemirror_mode": {
    "name": "ipython",
    "version": 3
   },
   "file_extension": ".py",
   "mimetype": "text/x-python",
   "name": "python",
   "nbconvert_exporter": "python",
   "pygments_lexer": "ipython3",
   "version": "3.8.8"
  }
 },
 "nbformat": 4,
 "nbformat_minor": 5
}
